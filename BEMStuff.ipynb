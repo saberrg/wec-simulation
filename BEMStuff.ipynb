{
  "nbformat": 4,
  "nbformat_minor": 0,
  "metadata": {
    "colab": {
      "provenance": [],
      "authorship_tag": "ABX9TyP+EFZ9euovW6z/qW/cB0jY",
      "include_colab_link": true
    },
    "kernelspec": {
      "name": "python3",
      "display_name": "Python 3"
    },
    "language_info": {
      "name": "python"
    },
    "widgets": {
      "application/vnd.jupyter.widget-state+json": {
        "de114298c77e4f1497b568cc8b6ac3c1": {
          "model_module": "@jupyter-widgets/output",
          "model_name": "OutputModel",
          "model_module_version": "1.0.0",
          "state": {
            "_dom_classes": [],
            "_model_module": "@jupyter-widgets/output",
            "_model_module_version": "1.0.0",
            "_model_name": "OutputModel",
            "_view_count": null,
            "_view_module": "@jupyter-widgets/output",
            "_view_module_version": "1.0.0",
            "_view_name": "OutputView",
            "layout": "IPY_MODEL_c5374a5d2ff0484999cfbf9f9f0e9beb",
            "msg_id": "",
            "outputs": [
              {
                "output_type": "display_data",
                "data": {
                  "text/plain": "Solving BEM problems \u001b[38;2;114;156;31m━━━━━━━━━━━━━━━━━━━━━━━━━━━━━━━━━━━━━━━━\u001b[0m \u001b[35m100%\u001b[0m \u001b[33m0:00:02\u001b[0m\n",
                  "text/html": "<pre style=\"white-space:pre;overflow-x:auto;line-height:normal;font-family:Menlo,'DejaVu Sans Mono',consolas,'Courier New',monospace\">Solving BEM problems <span style=\"color: #729c1f; text-decoration-color: #729c1f\">━━━━━━━━━━━━━━━━━━━━━━━━━━━━━━━━━━━━━━━━</span> <span style=\"color: #800080; text-decoration-color: #800080\">100%</span> <span style=\"color: #808000; text-decoration-color: #808000\">0:00:02</span>\n</pre>\n"
                },
                "metadata": {}
              }
            ]
          }
        },
        "c5374a5d2ff0484999cfbf9f9f0e9beb": {
          "model_module": "@jupyter-widgets/base",
          "model_name": "LayoutModel",
          "model_module_version": "1.2.0",
          "state": {
            "_model_module": "@jupyter-widgets/base",
            "_model_module_version": "1.2.0",
            "_model_name": "LayoutModel",
            "_view_count": null,
            "_view_module": "@jupyter-widgets/base",
            "_view_module_version": "1.2.0",
            "_view_name": "LayoutView",
            "align_content": null,
            "align_items": null,
            "align_self": null,
            "border": null,
            "bottom": null,
            "display": null,
            "flex": null,
            "flex_flow": null,
            "grid_area": null,
            "grid_auto_columns": null,
            "grid_auto_flow": null,
            "grid_auto_rows": null,
            "grid_column": null,
            "grid_gap": null,
            "grid_row": null,
            "grid_template_areas": null,
            "grid_template_columns": null,
            "grid_template_rows": null,
            "height": null,
            "justify_content": null,
            "justify_items": null,
            "left": null,
            "margin": null,
            "max_height": null,
            "max_width": null,
            "min_height": null,
            "min_width": null,
            "object_fit": null,
            "object_position": null,
            "order": null,
            "overflow": null,
            "overflow_x": null,
            "overflow_y": null,
            "padding": null,
            "right": null,
            "top": null,
            "visibility": null,
            "width": null
          }
        }
      }
    }
  },
  "cells": [
    {
      "cell_type": "markdown",
      "metadata": {
        "id": "view-in-github",
        "colab_type": "text"
      },
      "source": [
        "<a href=\"https://colab.research.google.com/github/saberrg/wec-simulation/blob/main/BEMStuff.ipynb\" target=\"_parent\"><img src=\"https://colab.research.google.com/assets/colab-badge.svg\" alt=\"Open In Colab\"/></a>"
      ]
    },
    {
      "cell_type": "code",
      "source": [
        "!pip install capytaine\n",
        "!pip install vtk\n",
        "import capytaine as cpt"
      ],
      "metadata": {
        "colab": {
          "base_uri": "https://localhost:8080/"
        },
        "id": "xCN6p9qa7Yh7",
        "outputId": "f86e51e2-fc2a-4c9b-d235-0d1419b2ce57"
      },
      "execution_count": null,
      "outputs": [
        {
          "output_type": "stream",
          "name": "stdout",
          "text": [
            "Collecting capytaine\n",
            "  Downloading capytaine-2.2.1-cp311-cp311-manylinux_2_17_x86_64.manylinux2014_x86_64.whl.metadata (45 kB)\n",
            "\u001b[?25l     \u001b[90m━━━━━━━━━━━━━━━━━━━━━━━━━━━━━━━━━━━━━━━━\u001b[0m \u001b[32m0.0/45.2 kB\u001b[0m \u001b[31m?\u001b[0m eta \u001b[36m-:--:--\u001b[0m\r\u001b[2K     \u001b[90m━━━━━━━━━━━━━━━━━━━━━━━━━━━━━━━━━━━━━━━━\u001b[0m \u001b[32m45.2/45.2 kB\u001b[0m \u001b[31m1.6 MB/s\u001b[0m eta \u001b[36m0:00:00\u001b[0m\n",
            "\u001b[?25hRequirement already satisfied: numpy>=1.20 in /usr/local/lib/python3.11/dist-packages (from capytaine) (2.0.2)\n",
            "Requirement already satisfied: scipy in /usr/local/lib/python3.11/dist-packages (from capytaine) (1.14.1)\n",
            "Requirement already satisfied: pandas>=1.3 in /usr/local/lib/python3.11/dist-packages (from capytaine) (2.2.2)\n",
            "Requirement already satisfied: xarray in /usr/local/lib/python3.11/dist-packages (from capytaine) (2025.1.2)\n",
            "Requirement already satisfied: rich in /usr/local/lib/python3.11/dist-packages (from capytaine) (13.9.4)\n",
            "Requirement already satisfied: python-dateutil>=2.8.2 in /usr/local/lib/python3.11/dist-packages (from pandas>=1.3->capytaine) (2.8.2)\n",
            "Requirement already satisfied: pytz>=2020.1 in /usr/local/lib/python3.11/dist-packages (from pandas>=1.3->capytaine) (2025.1)\n",
            "Requirement already satisfied: tzdata>=2022.7 in /usr/local/lib/python3.11/dist-packages (from pandas>=1.3->capytaine) (2025.1)\n",
            "Requirement already satisfied: markdown-it-py>=2.2.0 in /usr/local/lib/python3.11/dist-packages (from rich->capytaine) (3.0.0)\n",
            "Requirement already satisfied: pygments<3.0.0,>=2.13.0 in /usr/local/lib/python3.11/dist-packages (from rich->capytaine) (2.18.0)\n",
            "Requirement already satisfied: packaging>=23.2 in /usr/local/lib/python3.11/dist-packages (from xarray->capytaine) (24.2)\n",
            "Requirement already satisfied: mdurl~=0.1 in /usr/local/lib/python3.11/dist-packages (from markdown-it-py>=2.2.0->rich->capytaine) (0.1.2)\n",
            "Requirement already satisfied: six>=1.5 in /usr/local/lib/python3.11/dist-packages (from python-dateutil>=2.8.2->pandas>=1.3->capytaine) (1.17.0)\n",
            "Downloading capytaine-2.2.1-cp311-cp311-manylinux_2_17_x86_64.manylinux2014_x86_64.whl (1.4 MB)\n",
            "\u001b[2K   \u001b[90m━━━━━━━━━━━━━━━━━━━━━━━━━━━━━━━━━━━━━━━━\u001b[0m \u001b[32m1.4/1.4 MB\u001b[0m \u001b[31m16.5 MB/s\u001b[0m eta \u001b[36m0:00:00\u001b[0m\n",
            "\u001b[?25hInstalling collected packages: capytaine\n",
            "Successfully installed capytaine-2.2.1\n",
            "Collecting vtk\n",
            "  Downloading vtk-9.4.1-cp311-cp311-manylinux_2_17_x86_64.manylinux2014_x86_64.whl.metadata (5.3 kB)\n",
            "Requirement already satisfied: matplotlib>=2.0.0 in /usr/local/lib/python3.11/dist-packages (from vtk) (3.10.0)\n",
            "Requirement already satisfied: contourpy>=1.0.1 in /usr/local/lib/python3.11/dist-packages (from matplotlib>=2.0.0->vtk) (1.3.1)\n",
            "Requirement already satisfied: cycler>=0.10 in /usr/local/lib/python3.11/dist-packages (from matplotlib>=2.0.0->vtk) (0.12.1)\n",
            "Requirement already satisfied: fonttools>=4.22.0 in /usr/local/lib/python3.11/dist-packages (from matplotlib>=2.0.0->vtk) (4.56.0)\n",
            "Requirement already satisfied: kiwisolver>=1.3.1 in /usr/local/lib/python3.11/dist-packages (from matplotlib>=2.0.0->vtk) (1.4.8)\n",
            "Requirement already satisfied: numpy>=1.23 in /usr/local/lib/python3.11/dist-packages (from matplotlib>=2.0.0->vtk) (2.0.2)\n",
            "Requirement already satisfied: packaging>=20.0 in /usr/local/lib/python3.11/dist-packages (from matplotlib>=2.0.0->vtk) (24.2)\n",
            "Requirement already satisfied: pillow>=8 in /usr/local/lib/python3.11/dist-packages (from matplotlib>=2.0.0->vtk) (11.1.0)\n",
            "Requirement already satisfied: pyparsing>=2.3.1 in /usr/local/lib/python3.11/dist-packages (from matplotlib>=2.0.0->vtk) (3.2.1)\n",
            "Requirement already satisfied: python-dateutil>=2.7 in /usr/local/lib/python3.11/dist-packages (from matplotlib>=2.0.0->vtk) (2.8.2)\n",
            "Requirement already satisfied: six>=1.5 in /usr/local/lib/python3.11/dist-packages (from python-dateutil>=2.7->matplotlib>=2.0.0->vtk) (1.17.0)\n",
            "Downloading vtk-9.4.1-cp311-cp311-manylinux_2_17_x86_64.manylinux2014_x86_64.whl (105.0 MB)\n",
            "\u001b[2K   \u001b[90m━━━━━━━━━━━━━━━━━━━━━━━━━━━━━━━━━━━━━━━━\u001b[0m \u001b[32m105.0/105.0 MB\u001b[0m \u001b[31m7.0 MB/s\u001b[0m eta \u001b[36m0:00:00\u001b[0m\n",
            "\u001b[?25hInstalling collected packages: vtk\n",
            "Successfully installed vtk-9.4.1\n"
          ]
        }
      ]
    },
    {
      "cell_type": "markdown",
      "source": [],
      "metadata": {
        "id": "LcbsnmeK989o"
      }
    },
    {
      "cell_type": "code",
      "source": [
        "mesh = cpt.load_mesh('/content/buo.stl')"
      ],
      "metadata": {
        "id": "gN9R3IGTIt2K"
      },
      "execution_count": null,
      "outputs": []
    },
    {
      "cell_type": "code",
      "source": [
        "#for fun to visualize the mesh\n",
        "mesh.show_matplotlib()"
      ],
      "metadata": {
        "colab": {
          "base_uri": "https://localhost:8080/",
          "height": 409
        },
        "id": "wq6QG_A7kEBw",
        "outputId": "cb25ef2f-ea52-490b-f4f0-dea86a0e2db1"
      },
      "execution_count": null,
      "outputs": [
        {
          "output_type": "display_data",
          "data": {
            "text/plain": [
              "<Figure size 640x480 with 1 Axes>"
            ],
            "image/png": "[encoded data removed]"
          },
          "metadata": {}
        }
      ]
    },
    {
      "cell_type": "markdown",
      "source": [
        "**MAYBE NOT NEEDED**"
      ],
      "metadata": {
        "id": "OmZEdKTcI90e"
      }
    },
    {
      "cell_type": "code",
      "source": [
        "body = cpt.FloatingBody(mesh=mesh,\n",
        "                        dofs=cpt.rigid_body_dofs(rotation_center=(0, 0, -2)),\n",
        "                        center_of_mass=(0, 0, -2))"
      ],
      "metadata": {
        "id": "qC-x2tMx6oSe"
      },
      "execution_count": null,
      "outputs": []
    },
    {
      "cell_type": "markdown",
      "source": [
        "**THIS IS WHERE THE MAGIC HAPPENS ABOUT 1 MIN RUN TIME**"
      ],
      "metadata": {
        "id": "ou0RQxdzITTI"
      }
    },
    {
      "cell_type": "code",
      "source": [
        "import numpy as np\n",
        "import capytaine as cpt\n",
        "\n",
        "frequencies = np.linspace(0.45, 1.57, 10)\n",
        "headings = [0.0, 90.0, 180.0]\n",
        "\n",
        "radiation_problems = []\n",
        "diffraction_problems = []\n",
        "\n",
        "for freq in frequencies:\n",
        "    for heading in headings:\n",
        "        # 1) Radiation problems for each DOF:\n",
        "        for dof_name in body.dofs:\n",
        "            rad_problem = cpt.RadiationProblem(\n",
        "                body=body,\n",
        "                omega=freq,\n",
        "                wave_direction=np.deg2rad(heading),\n",
        "                radiating_dof=dof_name\n",
        "            )\n",
        "            radiation_problems.append(rad_problem)\n",
        "\n",
        "        # 2) Diffraction problem for each (freq, heading) pair:\n",
        "        diff_problem = cpt.DiffractionProblem(\n",
        "            body=body,\n",
        "            omega=freq,\n",
        "            wave_direction=np.deg2rad(heading)\n",
        "        )\n",
        "        diffraction_problems.append(diff_problem)\n",
        "\n",
        "all_problems = radiation_problems + diffraction_problems\n",
        "solver = cpt.BEMSolver()\n",
        "solutions = solver.solve_all(all_problems)\n",
        "\n",
        "results = cpt.assemble_dataset(solutions)\n"
      ],
      "metadata": {
        "id": "ayVcnRONDTiV",
        "collapsed": true
      },
      "execution_count": null,
      "outputs": []
    },
    {
      "cell_type": "markdown",
      "source": [
        "**SAVING THE RESULTS**"
      ],
      "metadata": {
        "id": "5URWTXH-IOy3"
      }
    },
    {
      "cell_type": "code",
      "source": [
        "from capytaine.io.xarray import separate_complex_values\n",
        "results_for_netcdf = separate_complex_values(results)"
      ],
      "metadata": {
        "id": "7VyXpS9MHn07"
      },
      "execution_count": null,
      "outputs": []
    },
    {
      "cell_type": "code",
      "source": [
        "results_for_netcdf.to_netcdf(\n",
        "    \"my_capytaine_output.nc\",\n",
        "    encoding={\n",
        "        \"radiating_dof\": {\"dtype\": \"U\"},\n",
        "        \"influenced_dof\": {\"dtype\": \"U\"}\n",
        "    }\n",
        ")"
      ],
      "metadata": {
        "id": "joTreDfwHubC"
      },
      "execution_count": null,
      "outputs": []
    },
    {
      "cell_type": "code",
      "source": [
        "import os\n",
        "from capytaine.io.legacy import export_hydrostatics\n",
        "\n",
        "os.makedirs(\"my_hydrostatics\", exist_ok=True)\n",
        "export_hydrostatics(\"my_hydrostatics\", body)\n"
      ],
      "metadata": {
        "colab": {
          "base_uri": "https://localhost:8080/",
          "height": 50
        },
        "id": "pf9XQMePHydM",
        "outputId": "4cc553f4-0cc0-4d4d-a4ec-7103ce4244b4"
      },
      "execution_count": null,
      "outputs": [
        {
          "output_type": "display_data",
          "data": {
            "text/plain": [
              "\u001b[2;36m[07:47:46]\u001b[0m\u001b[2;36m \u001b[0m\u001b[33mWARNING \u001b[0m Exporting problem in already existing directory: my_hydrostatics                               \n",
              "\u001b[2;36m           \u001b[0m                      You might be overwriting existing files!                                          \n"
            ],
            "text/html": [
              "<pre style=\"white-space:pre;overflow-x:auto;line-height:normal;font-family:Menlo,'DejaVu Sans Mono',consolas,'Courier New',monospace\"><span style=\"color: #7fbfbf; text-decoration-color: #7fbfbf\">[07:47:46] </span><span style=\"color: #808000; text-decoration-color: #808000\">WARNING </span> Exporting problem in already existing directory: my_hydrostatics                               \n",
              "<span style=\"color: #7fbfbf; text-decoration-color: #7fbfbf\">           </span>                      You might be overwriting existing files!                                          \n",
              "</pre>\n"
            ]
          },
          "metadata": {}
        }
      ]
    },
    {
      "cell_type": "code",
      "source": [
        "#EXTRA\n",
        "body.add_all_rigid_body_dofs()\n",
        "hydrostatics = body.compute_hydrostatics(rho=1025.0)"
      ],
      "metadata": {
        "id": "6zKPVlFb2npj"
      },
      "execution_count": null,
      "outputs": []
    },
    {
      "cell_type": "code",
      "source": [
        "\n",
        "#V2 TEMPLATE SCRIPT THAT HAS EXTRA INFO (LIKE INTERTIA) RUN THIS TRIAL LATER\n",
        "#IN WEC SIM TOO\n",
        "\n",
        "\n",
        "import numpy as np\n",
        "import xarray as xr\n",
        "import capytaine as cpt\n",
        "from capytaine.io.xarray import separate_complex_values\n",
        "\n",
        "# --- 1a) Define your FloatingBody ---\n",
        "mesh = cpt.load_mesh(\"buo.stl\")\n",
        "body = cpt.FloatingBody(mesh=mesh, name=\"myBuoy\")\n",
        "body.rotation_center = (0.0, 0.0, 0.0)\n",
        "body.center_of_mass = (0, 0, -0.2)\n",
        "body.add_all_rigid_body_dofs()\n",
        "# Optional inertia/hydrostatics if not done earlier\n",
        "body.inertia_matrix = body.compute_rigid_body_inertia()\n",
        "body.hydrostatic_stiffness = body.immersed_part().compute_hydrostatic_stiffness()\n",
        "\n",
        "# --- 1b) Define wave frequencies & headings ---\n",
        "frequencies = np.linspace(0.45, 1.57, 10)  # rad/s example\n",
        "headings = [0.0]\n",
        "\n",
        "# --- 1c) Build radiation + diffraction problems ---\n",
        "radiation_problems = []\n",
        "diffraction_problems = []\n",
        "\n",
        "for omega in frequencies:\n",
        "    for heading in headings:\n",
        "        # Radiation for each DOF\n",
        "        for dof in body.dofs:\n",
        "            rad_problem = cpt.RadiationProblem(\n",
        "                body=body,\n",
        "                omega=omega,\n",
        "                wave_direction=np.deg2rad(heading),\n",
        "                radiating_dof=dof\n",
        "            )\n",
        "            radiation_problems.append(rad_problem)\n",
        "\n",
        "        # Diffraction\n",
        "        diff_problem = cpt.DiffractionProblem(\n",
        "            body=body,\n",
        "            omega=omega,\n",
        "            wave_direction=np.deg2rad(heading)\n",
        "        )\n",
        "        diffraction_problems.append(diff_problem)\n",
        "\n",
        "# --- 1d) Solve all BEM problems + assemble results ---\n",
        "all_problems = radiation_problems + diffraction_problems\n",
        "solver = cpt.BEMSolver()\n",
        "solutions = solver.solve_all(all_problems)\n",
        "results = cpt.assemble_dataset(solutions)\n",
        "\n",
        "# --- 1e) Export your BEM results to a netCDF file for BEMIO ---\n",
        "# Capytaine uses complex arrays. We must separate them to store in netCDF properly.\n",
        "from capytaine.io.xarray import separate_complex_values\n",
        "results_for_netcdf = separate_complex_values(results)\n",
        "\n",
        "# Also specify string encoding so xarray doesn't complain\n",
        "results_for_netcdf.to_netcdf(\n",
        "    \"my_capytaine_output.nc\",\n",
        "    encoding={\n",
        "        \"radiating_dof\": {\"dtype\": \"U\"},\n",
        "        \"influenced_dof\": {\"dtype\": \"U\"}\n",
        "    }\n",
        ")\n",
        "\n",
        "\n",
        "from capytaine.io.legacy import export_hydrostatics\n",
        "import os\n",
        "\n",
        "os.makedirs(\"my_hydrostatics\", exist_ok=True)\n",
        "export_hydrostatics(\"my_hydrostatics\", body)\n",
        "\n"
      ],
      "metadata": {
        "id": "ipU-bQqxHXoO"
      },
      "execution_count": null,
      "outputs": []
    },
    {
      "cell_type": "code",
      "source": [
        "print(results)\n"
      ],
      "metadata": {
        "id": "JqGbCDcvDTam"
      },
      "execution_count": null,
      "outputs": []
    },
    {
      "cell_type": "code",
      "source": [
        "!pip install capytaine vtk\n",
        "\n",
        "import numpy as np\n",
        "from math import pi\n",
        "import capytaine as cpt\n",
        "from capytaine.bem.airy_waves import airy_waves_free_surface_elevation\n",
        "from capytaine.ui.vtk import Animation\n",
        "\n",
        "cpt.set_logging(\"INFO\")  # optional: see more solver details\n",
        "\n",
        "bem_solver = cpt.BEMSolver()\n",
        "\n",
        "\n",
        "def generate_buoy():\n",
        "    \"\"\"\n",
        "    Load your buoy’s mesh and create a FloatingBody for it.\n",
        "    Adjust rotation_center, center_of_mass, etc. as needed.\n",
        "    \"\"\"\n",
        "    # Example if you have \"buo.stl\" in the same folder:\n",
        "    buoy_mesh = cpt.load_mesh(\"buo.stl\")\n",
        "    buoy_mesh.vertices *= 2.0\n",
        "\n",
        "    # Create a FloatingBody\n",
        "    buoy = cpt.FloatingBody(\n",
        "        mesh       = buoy_mesh,\n",
        "        dofs       = cpt.rigid_body_dofs(rotation_center=(0, 0, 0)),\n",
        "        center_of_mass = (0, 0, -0.2),  # your actual center_of_mass\n",
        "        name       = \"my_buoy\"\n",
        "    )\n",
        "    # Optionally compute inertia\n",
        "    buoy.inertia_matrix = buoy.compute_rigid_body_inertia()\n",
        "    # Compute a linear hydrostatic stiffness\n",
        "    buoy.hydrostatic_stiffness = buoy.immersed_part().compute_hydrostatic_stiffness()\n",
        "\n",
        "    return buoy\n",
        "\n",
        "\n",
        "def setup_animation(body, fs, omega, wave_amplitude, wave_direction):\n",
        "    \"\"\"\n",
        "    Solve BEM problems (radiation + diffraction) at a single frequency\n",
        "    then build an animation of the resulting RAO plus free-surface.\n",
        "    \"\"\"\n",
        "    # 1) RADIATION: solve for each dof\n",
        "    radiation_problems = []\n",
        "    for dof in body.dofs:\n",
        "        rad_prob = cpt.RadiationProblem(body=body, omega=omega,\n",
        "                                        wave_direction=wave_direction,\n",
        "                                        radiating_dof=dof)\n",
        "        radiation_problems.append(rad_prob)\n",
        "\n",
        "    radiation_results = bem_solver.solve_all(radiation_problems)\n",
        "\n",
        "    # 2) DIFFRACTION:\n",
        "    diff_problem = cpt.DiffractionProblem(\n",
        "        body=body, omega=omega, wave_direction=wave_direction\n",
        "    )\n",
        "    diffraction_result = bem_solver.solve(diff_problem)\n",
        "\n",
        "    # Assemble them for an RAO dataset\n",
        "    dataset = cpt.assemble_dataset(radiation_results + [diffraction_result])\n",
        "    # Post-process for RAO\n",
        "    rao = cpt.post_pro.rao(dataset, wave_direction=wave_direction)\n",
        "\n",
        "    # 3) Compute free-surface elevation\n",
        "    # incoming wave\n",
        "    incoming_waves_elev = airy_waves_free_surface_elevation(fs, diff_problem)\n",
        "\n",
        "    # wave pattern from diffraction\n",
        "    # (optional if you want to see the body-radiated waves)\n",
        "    # radiation_elevation = bem_solver.compute_free_surface_elevation(\n",
        "    #     fs, dataset, wave_amplitude, wave_direction, ...\n",
        "    # )\n",
        "\n",
        "    # 4) ANIMATION setup\n",
        "    # The RAO gives motion amplitude & phase. We compute each mesh-face motion:\n",
        "    # Suppose we pick the \"dof\" you want to animate.  Typically dof=...\n",
        "    # but if there are multiple dofs, we can sum them.\n",
        "    # For example: pick a single dof=2 => \"heave\" if that’s the second dof, etc.\n",
        "    # or sum them all for total motion.  We'll do a naive \"sum over all dofs\":\n",
        "    dof_list = body.dofs  # e.g. [\"Heave\", \"Surge\", ...]\n",
        "    # sum RAO for each dof.  (If you only want pitch, do rao.sel(radiating_dof='Pitch'))\n",
        "    rao_faces_motion = sum(\n",
        "    rao.sel(omega=omega, radiating_dof=dof).data * body.dofs[dof]\n",
        "    for dof in body.dofs)\n",
        "\n",
        "\n",
        "\n",
        "\n",
        "    # Create the VTK-based Animation\n",
        "    # loop_duration => one or two wave cycles\n",
        "    loop_duration = 8 * pi / omega  # two wave cycles\n",
        "    animation = Animation(loop_duration=loop_duration)\n",
        "\n",
        "    # add the mesh (the body) with RAO-based face motion\n",
        "    animation.add_body(body, faces_motion=wave_amplitude * rao_faces_motion)\n",
        "\n",
        "\n",
        "    # add free-surface\n",
        "    animation.add_free_surface(fs, wave_amplitude * incoming_waves_elev)\n",
        "\n",
        "    return animation\n",
        "\n",
        "\n",
        "if __name__ == \"__main__\":\n",
        "    # 1) Generate your buoy\n",
        "    body = generate_buoy()\n",
        "\n",
        "    # 2) Make a grid for wave visualization\n",
        "    # domain from x=-80..80, y=-80..80 (just an example)\n",
        "    fs = cpt.FreeSurface(x_range=(-80, 80), y_range=(-80, 80),\n",
        "                         nx=60, ny=60)\n",
        "\n",
        "    # 3) Setup the animation with your chosen frequency, wave amplitude, wave dir\n",
        "    # e.g. wave amplitude=1.0, wave freq=1.5 rad/s, wave direction=0 rad\n",
        "    anim = setup_animation(body, fs, omega=1.5, wave_amplitude=2.0, wave_direction=0.0)\n",
        "\n",
        "    # 4) Run the animation (will show in a pop-up if local; in Colab you typically record + download)\n",
        "    anim.run(\n",
        "        camera_position=(70, 70, 100),  # put the camera somewhere above\n",
        "        resolution=(800, 600)          # pixel resolution\n",
        "    )\n",
        "\n",
        "    # 5) Save it to an .ogv or .mp4 or .gif\n",
        "    # OGV is the default\n",
        "    anim.save('animated_buoyV2.ogv',\n",
        "              camera_position=(70,70,100),\n",
        "              resolution=(800,600))\n",
        "\n",
        "    print(\"Animation saved as 'animated_buoy.ogv'\")\n"
      ],
      "metadata": {
        "colab": {
          "base_uri": "https://localhost:8080/",
          "height": 1000,
          "referenced_widgets": [
            "de114298c77e4f1497b568cc8b6ac3c1",
            "c5374a5d2ff0484999cfbf9f9f0e9beb"
          ]
        },
        "id": "hjSFyRrk_M0P",
        "outputId": "9daff13b-560c-4339-fc1d-5aa2015c9f72"
      },
      "execution_count": null,
      "outputs": [
        {
          "output_type": "stream",
          "name": "stdout",
          "text": [
            "Requirement already satisfied: capytaine in /usr/local/lib/python3.11/dist-packages (2.2.1)\n",
            "Requirement already satisfied: vtk in /usr/local/lib/python3.11/dist-packages (9.4.1)\n",
            "Requirement already satisfied: numpy>=1.20 in /usr/local/lib/python3.11/dist-packages (from capytaine) (2.0.2)\n",
            "Requirement already satisfied: scipy in /usr/local/lib/python3.11/dist-packages (from capytaine) (1.14.1)\n",
            "Requirement already satisfied: pandas>=1.3 in /usr/local/lib/python3.11/dist-packages (from capytaine) (2.2.2)\n",
            "Requirement already satisfied: xarray in /usr/local/lib/python3.11/dist-packages (from capytaine) (2025.1.2)\n",
            "Requirement already satisfied: rich in /usr/local/lib/python3.11/dist-packages (from capytaine) (13.9.4)\n",
            "Requirement already satisfied: matplotlib>=2.0.0 in /usr/local/lib/python3.11/dist-packages (from vtk) (3.10.0)\n",
            "Requirement already satisfied: contourpy>=1.0.1 in /usr/local/lib/python3.11/dist-packages (from matplotlib>=2.0.0->vtk) (1.3.1)\n",
            "Requirement already satisfied: cycler>=0.10 in /usr/local/lib/python3.11/dist-packages (from matplotlib>=2.0.0->vtk) (0.12.1)\n",
            "Requirement already satisfied: fonttools>=4.22.0 in /usr/local/lib/python3.11/dist-packages (from matplotlib>=2.0.0->vtk) (4.56.0)\n",
            "Requirement already satisfied: kiwisolver>=1.3.1 in /usr/local/lib/python3.11/dist-packages (from matplotlib>=2.0.0->vtk) (1.4.8)\n",
            "Requirement already satisfied: packaging>=20.0 in /usr/local/lib/python3.11/dist-packages (from matplotlib>=2.0.0->vtk) (24.2)\n",
            "Requirement already satisfied: pillow>=8 in /usr/local/lib/python3.11/dist-packages (from matplotlib>=2.0.0->vtk) (11.1.0)\n",
            "Requirement already satisfied: pyparsing>=2.3.1 in /usr/local/lib/python3.11/dist-packages (from matplotlib>=2.0.0->vtk) (3.2.1)\n",
            "Requirement already satisfied: python-dateutil>=2.7 in /usr/local/lib/python3.11/dist-packages (from matplotlib>=2.0.0->vtk) (2.8.2)\n",
            "Requirement already satisfied: pytz>=2020.1 in /usr/local/lib/python3.11/dist-packages (from pandas>=1.3->capytaine) (2025.1)\n",
            "Requirement already satisfied: tzdata>=2022.7 in /usr/local/lib/python3.11/dist-packages (from pandas>=1.3->capytaine) (2025.1)\n",
            "Requirement already satisfied: markdown-it-py>=2.2.0 in /usr/local/lib/python3.11/dist-packages (from rich->capytaine) (3.0.0)\n",
            "Requirement already satisfied: pygments<3.0.0,>=2.13.0 in /usr/local/lib/python3.11/dist-packages (from rich->capytaine) (2.18.0)\n",
            "Requirement already satisfied: mdurl~=0.1 in /usr/local/lib/python3.11/dist-packages (from markdown-it-py>=2.2.0->rich->capytaine) (0.1.2)\n",
            "Requirement already satisfied: six>=1.5 in /usr/local/lib/python3.11/dist-packages (from python-dateutil>=2.7->matplotlib>=2.0.0->vtk) (1.17.0)\n"
          ]
        },
        {
          "output_type": "display_data",
          "data": {
            "text/plain": [
              "\u001b[2;36m[16:58:33]\u001b[0m\u001b[2;36m \u001b[0m\u001b[34mINFO    \u001b[0m Loading tabulation from                                                                        \n",
              "\u001b[2;36m           \u001b[0m         \u001b[35m/root/.cache/capytaine/2.2.1/\u001b[0m\u001b[95mtabulation_float64_scaled_nemoh3_676_100.0_372_-251.0_1001.npz\u001b[0m    \n"
            ],
            "text/html": [
              "<pre style=\"white-space:pre;overflow-x:auto;line-height:normal;font-family:Menlo,'DejaVu Sans Mono',consolas,'Courier New',monospace\"><span style=\"color: #7fbfbf; text-decoration-color: #7fbfbf\">[16:58:33] </span><span style=\"color: #000080; text-decoration-color: #000080\">INFO    </span> Loading tabulation from                                                                        \n",
              "<span style=\"color: #7fbfbf; text-decoration-color: #7fbfbf\">           </span>         <span style=\"color: #800080; text-decoration-color: #800080\">/root/.cache/capytaine/2.2.1/</span><span style=\"color: #ff00ff; text-decoration-color: #ff00ff\">tabulation_float64_scaled_nemoh3_676_100.0_372_-251.0_1001.npz</span>    \n",
              "</pre>\n"
            ]
          },
          "metadata": {}
        },
        {
          "output_type": "display_data",
          "data": {
            "text/plain": [
              "\u001b[2;36m[16:58:34]\u001b[0m\u001b[2;36m \u001b[0m\u001b[34mINFO    \u001b[0m The rotation dof Roll has been initialized around the point: \u001b[1;35mFloatingBody\u001b[0m\u001b[1m(\u001b[0m\u001b[33m...\u001b[0m,                 \n",
              "\u001b[2;36m           \u001b[0m         \u001b[33mname\u001b[0m=\u001b[32m\"my_buoy\"\u001b[0m\u001b[1m)\u001b[0m.rotation_center = \u001b[1m[\u001b[0m\u001b[1;36m0\u001b[0m. \u001b[1;36m0\u001b[0m. \u001b[1;36m0\u001b[0m.\u001b[1m]\u001b[0m                                                   \n"
            ],
            "text/html": [
              "<pre style=\"white-space:pre;overflow-x:auto;line-height:normal;font-family:Menlo,'DejaVu Sans Mono',consolas,'Courier New',monospace\"><span style=\"color: #7fbfbf; text-decoration-color: #7fbfbf\">[16:58:34] </span><span style=\"color: #000080; text-decoration-color: #000080\">INFO    </span> The rotation dof Roll has been initialized around the point: <span style=\"color: #800080; text-decoration-color: #800080; font-weight: bold\">FloatingBody</span><span style=\"font-weight: bold\">(</span><span style=\"color: #808000; text-decoration-color: #808000\">...</span>,                 \n",
              "<span style=\"color: #7fbfbf; text-decoration-color: #7fbfbf\">           </span>         <span style=\"color: #808000; text-decoration-color: #808000\">name</span>=<span style=\"color: #008000; text-decoration-color: #008000\">\"my_buoy\"</span><span style=\"font-weight: bold\">)</span>.rotation_center = <span style=\"font-weight: bold\">[</span><span style=\"color: #008080; text-decoration-color: #008080; font-weight: bold\">0</span>. <span style=\"color: #008080; text-decoration-color: #008080; font-weight: bold\">0</span>. <span style=\"color: #008080; text-decoration-color: #008080; font-weight: bold\">0</span>.<span style=\"font-weight: bold\">]</span>                                                   \n",
              "</pre>\n"
            ]
          },
          "metadata": {}
        },
        {
          "output_type": "display_data",
          "data": {
            "text/plain": [
              "\u001b[2;36m          \u001b[0m\u001b[2;36m \u001b[0m\u001b[34mINFO    \u001b[0m The rotation dof Pitch has been initialized around the point: \u001b[1;35mFloatingBody\u001b[0m\u001b[1m(\u001b[0m\u001b[33m...\u001b[0m,                \n",
              "\u001b[2;36m           \u001b[0m         \u001b[33mname\u001b[0m=\u001b[32m\"my_buoy\"\u001b[0m\u001b[1m)\u001b[0m.rotation_center = \u001b[1m[\u001b[0m\u001b[1;36m0\u001b[0m. \u001b[1;36m0\u001b[0m. \u001b[1;36m0\u001b[0m.\u001b[1m]\u001b[0m                                                   \n"
            ],
            "text/html": [
              "<pre style=\"white-space:pre;overflow-x:auto;line-height:normal;font-family:Menlo,'DejaVu Sans Mono',consolas,'Courier New',monospace\"><span style=\"color: #7fbfbf; text-decoration-color: #7fbfbf\">           </span><span style=\"color: #000080; text-decoration-color: #000080\">INFO    </span> The rotation dof Pitch has been initialized around the point: <span style=\"color: #800080; text-decoration-color: #800080; font-weight: bold\">FloatingBody</span><span style=\"font-weight: bold\">(</span><span style=\"color: #808000; text-decoration-color: #808000\">...</span>,                \n",
              "<span style=\"color: #7fbfbf; text-decoration-color: #7fbfbf\">           </span>         <span style=\"color: #808000; text-decoration-color: #808000\">name</span>=<span style=\"color: #008000; text-decoration-color: #008000\">\"my_buoy\"</span><span style=\"font-weight: bold\">)</span>.rotation_center = <span style=\"font-weight: bold\">[</span><span style=\"color: #008080; text-decoration-color: #008080; font-weight: bold\">0</span>. <span style=\"color: #008080; text-decoration-color: #008080; font-weight: bold\">0</span>. <span style=\"color: #008080; text-decoration-color: #008080; font-weight: bold\">0</span>.<span style=\"font-weight: bold\">]</span>                                                   \n",
              "</pre>\n"
            ]
          },
          "metadata": {}
        },
        {
          "output_type": "display_data",
          "data": {
            "text/plain": [
              "\u001b[2;36m          \u001b[0m\u001b[2;36m \u001b[0m\u001b[34mINFO    \u001b[0m The rotation dof Yaw has been initialized around the point: \u001b[1;35mFloatingBody\u001b[0m\u001b[1m(\u001b[0m\u001b[33m...\u001b[0m,                  \n",
              "\u001b[2;36m           \u001b[0m         \u001b[33mname\u001b[0m=\u001b[32m\"my_buoy\"\u001b[0m\u001b[1m)\u001b[0m.rotation_center = \u001b[1m[\u001b[0m\u001b[1;36m0\u001b[0m. \u001b[1;36m0\u001b[0m. \u001b[1;36m0\u001b[0m.\u001b[1m]\u001b[0m                                                   \n"
            ],
            "text/html": [
              "<pre style=\"white-space:pre;overflow-x:auto;line-height:normal;font-family:Menlo,'DejaVu Sans Mono',consolas,'Courier New',monospace\"><span style=\"color: #7fbfbf; text-decoration-color: #7fbfbf\">           </span><span style=\"color: #000080; text-decoration-color: #000080\">INFO    </span> The rotation dof Yaw has been initialized around the point: <span style=\"color: #800080; text-decoration-color: #800080; font-weight: bold\">FloatingBody</span><span style=\"font-weight: bold\">(</span><span style=\"color: #808000; text-decoration-color: #808000\">...</span>,                  \n",
              "<span style=\"color: #7fbfbf; text-decoration-color: #7fbfbf\">           </span>         <span style=\"color: #808000; text-decoration-color: #808000\">name</span>=<span style=\"color: #008000; text-decoration-color: #008000\">\"my_buoy\"</span><span style=\"font-weight: bold\">)</span>.rotation_center = <span style=\"font-weight: bold\">[</span><span style=\"color: #008080; text-decoration-color: #008080; font-weight: bold\">0</span>. <span style=\"color: #008080; text-decoration-color: #008080; font-weight: bold\">0</span>. <span style=\"color: #008080; text-decoration-color: #008080; font-weight: bold\">0</span>.<span style=\"font-weight: bold\">]</span>                                                   \n",
              "</pre>\n"
            ]
          },
          "metadata": {}
        },
        {
          "output_type": "display_data",
          "data": {
            "text/plain": [
              "\u001b[2;36m          \u001b[0m\u001b[2;36m \u001b[0m\u001b[34mINFO    \u001b[0m New floating body: \u001b[1;35mFloatingBody\u001b[0m\u001b[1m(\u001b[0m\u001b[33mmesh\u001b[0m=\u001b[1;35mMesh\u001b[0m\u001b[1m(\u001b[0m\u001b[33m...\u001b[0m, \u001b[33mname\u001b[0m=\u001b[32m\"buo\u001b[0m\u001b[32m.stl\"\u001b[0m\u001b[1m)\u001b[0m, \u001b[33mlid_mesh\u001b[0m=\u001b[3;35mNone\u001b[0m, \u001b[33mdofs\u001b[0m=\u001b[1m{\u001b[0m\u001b[32m\"Surge\"\u001b[0m:  \n",
              "\u001b[2;36m           \u001b[0m         \u001b[33m...\u001b[0m, \u001b[32m\"Sway\"\u001b[0m: \u001b[33m...\u001b[0m, \u001b[32m\"Heave\"\u001b[0m: \u001b[33m...\u001b[0m, \u001b[32m\"Roll\"\u001b[0m: \u001b[33m...\u001b[0m, \u001b[32m\"Pitch\"\u001b[0m: \u001b[33m...\u001b[0m, \u001b[32m\"Yaw\"\u001b[0m: \u001b[33m...\u001b[0m\u001b[1m}\u001b[0m, \u001b[33mcenter_of_mass\u001b[0m=\u001b[1m[\u001b[0m \u001b[1;36m0\u001b[0m.    \n",
              "\u001b[2;36m           \u001b[0m         \u001b[1;36m0\u001b[0m.  \u001b[1;36m-0.2\u001b[0m\u001b[1m]\u001b[0m, \u001b[33mname\u001b[0m=\u001b[32m\"my_buoy\"\u001b[0m\u001b[1m)\u001b[0m.                                                                    \n"
            ],
            "text/html": [
              "<pre style=\"white-space:pre;overflow-x:auto;line-height:normal;font-family:Menlo,'DejaVu Sans Mono',consolas,'Courier New',monospace\"><span style=\"color: #7fbfbf; text-decoration-color: #7fbfbf\">           </span><span style=\"color: #000080; text-decoration-color: #000080\">INFO    </span> New floating body: <span style=\"color: #800080; text-decoration-color: #800080; font-weight: bold\">FloatingBody</span><span style=\"font-weight: bold\">(</span><span style=\"color: #808000; text-decoration-color: #808000\">mesh</span>=<span style=\"color: #800080; text-decoration-color: #800080; font-weight: bold\">Mesh</span><span style=\"font-weight: bold\">(</span><span style=\"color: #808000; text-decoration-color: #808000\">...</span>, <span style=\"color: #808000; text-decoration-color: #808000\">name</span>=<span style=\"color: #008000; text-decoration-color: #008000\">\"buo.stl\"</span><span style=\"font-weight: bold\">)</span>, <span style=\"color: #808000; text-decoration-color: #808000\">lid_mesh</span>=<span style=\"color: #800080; text-decoration-color: #800080; font-style: italic\">None</span>, <span style=\"color: #808000; text-decoration-color: #808000\">dofs</span>=<span style=\"font-weight: bold\">{</span><span style=\"color: #008000; text-decoration-color: #008000\">\"Surge\"</span>:  \n",
              "<span style=\"color: #7fbfbf; text-decoration-color: #7fbfbf\">           </span>         <span style=\"color: #808000; text-decoration-color: #808000\">...</span>, <span style=\"color: #008000; text-decoration-color: #008000\">\"Sway\"</span>: <span style=\"color: #808000; text-decoration-color: #808000\">...</span>, <span style=\"color: #008000; text-decoration-color: #008000\">\"Heave\"</span>: <span style=\"color: #808000; text-decoration-color: #808000\">...</span>, <span style=\"color: #008000; text-decoration-color: #008000\">\"Roll\"</span>: <span style=\"color: #808000; text-decoration-color: #808000\">...</span>, <span style=\"color: #008000; text-decoration-color: #008000\">\"Pitch\"</span>: <span style=\"color: #808000; text-decoration-color: #808000\">...</span>, <span style=\"color: #008000; text-decoration-color: #008000\">\"Yaw\"</span>: <span style=\"color: #808000; text-decoration-color: #808000\">...</span><span style=\"font-weight: bold\">}</span>, <span style=\"color: #808000; text-decoration-color: #808000\">center_of_mass</span>=<span style=\"font-weight: bold\">[</span> <span style=\"color: #008080; text-decoration-color: #008080; font-weight: bold\">0</span>.    \n",
              "<span style=\"color: #7fbfbf; text-decoration-color: #7fbfbf\">           </span>         <span style=\"color: #008080; text-decoration-color: #008080; font-weight: bold\">0</span>.  <span style=\"color: #008080; text-decoration-color: #008080; font-weight: bold\">-0.2</span><span style=\"font-weight: bold\">]</span>, <span style=\"color: #808000; text-decoration-color: #808000\">name</span>=<span style=\"color: #008000; text-decoration-color: #008000\">\"my_buoy\"</span><span style=\"font-weight: bold\">)</span>.                                                                    \n",
              "</pre>\n"
            ]
          },
          "metadata": {}
        },
        {
          "output_type": "display_data",
          "data": {
            "text/plain": [
              "\u001b[2;36m          \u001b[0m\u001b[2;36m \u001b[0m\u001b[34mINFO    \u001b[0m Clipping my_buoy with respect to \u001b[1;35mPlane\u001b[0m\u001b[1m(\u001b[0m\u001b[33mnormal\u001b[0m=\u001b[1m[\u001b[0m\u001b[1;36m0\u001b[0m. \u001b[1;36m0\u001b[0m. \u001b[1;36m1\u001b[0m.\u001b[1m]\u001b[0m, \u001b[33mpoint\u001b[0m=\u001b[1m[\u001b[0m\u001b[1;36m0\u001b[0m. \u001b[1;36m0\u001b[0m. \u001b[1;36m0\u001b[0m.\u001b[1m]\u001b[0m\u001b[1m)\u001b[0m                    \n"
            ],
            "text/html": [
              "<pre style=\"white-space:pre;overflow-x:auto;line-height:normal;font-family:Menlo,'DejaVu Sans Mono',consolas,'Courier New',monospace\"><span style=\"color: #7fbfbf; text-decoration-color: #7fbfbf\">           </span><span style=\"color: #000080; text-decoration-color: #000080\">INFO    </span> Clipping my_buoy with respect to <span style=\"color: #800080; text-decoration-color: #800080; font-weight: bold\">Plane</span><span style=\"font-weight: bold\">(</span><span style=\"color: #808000; text-decoration-color: #808000\">normal</span>=<span style=\"font-weight: bold\">[</span><span style=\"color: #008080; text-decoration-color: #008080; font-weight: bold\">0</span>. <span style=\"color: #008080; text-decoration-color: #008080; font-weight: bold\">0</span>. <span style=\"color: #008080; text-decoration-color: #008080; font-weight: bold\">1</span>.<span style=\"font-weight: bold\">]</span>, <span style=\"color: #808000; text-decoration-color: #808000\">point</span>=<span style=\"font-weight: bold\">[</span><span style=\"color: #008080; text-decoration-color: #008080; font-weight: bold\">0</span>. <span style=\"color: #008080; text-decoration-color: #008080; font-weight: bold\">0</span>. <span style=\"color: #008080; text-decoration-color: #008080; font-weight: bold\">0</span>.<span style=\"font-weight: bold\">])</span>                    \n",
              "</pre>\n"
            ]
          },
          "metadata": {}
        },
        {
          "output_type": "display_data",
          "data": {
            "text/plain": [
              "\u001b[2;36m[16:58:35]\u001b[0m\u001b[2;36m \u001b[0m\u001b[33mWARNING \u001b[0m The mesh of the body \u001b[1;35mFloatingBody\u001b[0m\u001b[1m(\u001b[0m\u001b[33m...\u001b[0m, \u001b[33mname\u001b[0m=\u001b[32m\"my_buoy\"\u001b[0m\u001b[1m)\u001b[0m has \u001b[1;36m1013\u001b[0m panels above the free surface. \n",
              "\u001b[2;36m           \u001b[0m         It has been clipped to fit inside the domain.                                                  \n",
              "\u001b[2;36m           \u001b[0m         To remove this warning, clip the mesh manually with the `\u001b[1;35mimmersed_part\u001b[0m\u001b[1m(\u001b[0m\u001b[1m)\u001b[0m` method.              \n"
            ],
            "text/html": [
              "<pre style=\"white-space:pre;overflow-x:auto;line-height:normal;font-family:Menlo,'DejaVu Sans Mono',consolas,'Courier New',monospace\"><span style=\"color: #7fbfbf; text-decoration-color: #7fbfbf\">[16:58:35] </span><span style=\"color: #808000; text-decoration-color: #808000\">WARNING </span> The mesh of the body <span style=\"color: #800080; text-decoration-color: #800080; font-weight: bold\">FloatingBody</span><span style=\"font-weight: bold\">(</span><span style=\"color: #808000; text-decoration-color: #808000\">...</span>, <span style=\"color: #808000; text-decoration-color: #808000\">name</span>=<span style=\"color: #008000; text-decoration-color: #008000\">\"my_buoy\"</span><span style=\"font-weight: bold\">)</span> has <span style=\"color: #008080; text-decoration-color: #008080; font-weight: bold\">1013</span> panels above the free surface. \n",
              "<span style=\"color: #7fbfbf; text-decoration-color: #7fbfbf\">           </span>         It has been clipped to fit inside the domain.                                                  \n",
              "<span style=\"color: #7fbfbf; text-decoration-color: #7fbfbf\">           </span>         To remove this warning, clip the mesh manually with the `<span style=\"color: #800080; text-decoration-color: #800080; font-weight: bold\">immersed_part</span><span style=\"font-weight: bold\">()</span>` method.              \n",
              "</pre>\n"
            ]
          },
          "metadata": {}
        },
        {
          "output_type": "display_data",
          "data": {
            "text/plain": [
              "\u001b[2;36m          \u001b[0m\u001b[2;36m \u001b[0m\u001b[34mINFO    \u001b[0m Clipping my_buoy with respect to \u001b[1;35mPlane\u001b[0m\u001b[1m(\u001b[0m\u001b[33mnormal\u001b[0m=\u001b[1m[\u001b[0m\u001b[1;36m0\u001b[0m. \u001b[1;36m0\u001b[0m. \u001b[1;36m1\u001b[0m.\u001b[1m]\u001b[0m, \u001b[33mpoint\u001b[0m=\u001b[1m[\u001b[0m\u001b[1;36m0\u001b[0m. \u001b[1;36m0\u001b[0m. \u001b[1;36m0\u001b[0m.\u001b[1m]\u001b[0m\u001b[1m)\u001b[0m                    \n"
            ],
            "text/html": [
              "<pre style=\"white-space:pre;overflow-x:auto;line-height:normal;font-family:Menlo,'DejaVu Sans Mono',consolas,'Courier New',monospace\"><span style=\"color: #7fbfbf; text-decoration-color: #7fbfbf\">           </span><span style=\"color: #000080; text-decoration-color: #000080\">INFO    </span> Clipping my_buoy with respect to <span style=\"color: #800080; text-decoration-color: #800080; font-weight: bold\">Plane</span><span style=\"font-weight: bold\">(</span><span style=\"color: #808000; text-decoration-color: #808000\">normal</span>=<span style=\"font-weight: bold\">[</span><span style=\"color: #008080; text-decoration-color: #008080; font-weight: bold\">0</span>. <span style=\"color: #008080; text-decoration-color: #008080; font-weight: bold\">0</span>. <span style=\"color: #008080; text-decoration-color: #008080; font-weight: bold\">1</span>.<span style=\"font-weight: bold\">]</span>, <span style=\"color: #808000; text-decoration-color: #808000\">point</span>=<span style=\"font-weight: bold\">[</span><span style=\"color: #008080; text-decoration-color: #008080; font-weight: bold\">0</span>. <span style=\"color: #008080; text-decoration-color: #008080; font-weight: bold\">0</span>. <span style=\"color: #008080; text-decoration-color: #008080; font-weight: bold\">0</span>.<span style=\"font-weight: bold\">])</span>                    \n",
              "</pre>\n"
            ]
          },
          "metadata": {}
        },
        {
          "output_type": "display_data",
          "data": {
            "text/plain": [
              "\u001b[2;36m          \u001b[0m\u001b[2;36m \u001b[0m\u001b[33mWARNING \u001b[0m The mesh of the body \u001b[1;35mFloatingBody\u001b[0m\u001b[1m(\u001b[0m\u001b[33m...\u001b[0m, \u001b[33mname\u001b[0m=\u001b[32m\"my_buoy\"\u001b[0m\u001b[1m)\u001b[0m has \u001b[1;36m1013\u001b[0m panels above the free surface. \n",
              "\u001b[2;36m           \u001b[0m         It has been clipped to fit inside the domain.                                                  \n",
              "\u001b[2;36m           \u001b[0m         To remove this warning, clip the mesh manually with the `\u001b[1;35mimmersed_part\u001b[0m\u001b[1m(\u001b[0m\u001b[1m)\u001b[0m` method.              \n"
            ],
            "text/html": [
              "<pre style=\"white-space:pre;overflow-x:auto;line-height:normal;font-family:Menlo,'DejaVu Sans Mono',consolas,'Courier New',monospace\"><span style=\"color: #7fbfbf; text-decoration-color: #7fbfbf\">           </span><span style=\"color: #808000; text-decoration-color: #808000\">WARNING </span> The mesh of the body <span style=\"color: #800080; text-decoration-color: #800080; font-weight: bold\">FloatingBody</span><span style=\"font-weight: bold\">(</span><span style=\"color: #808000; text-decoration-color: #808000\">...</span>, <span style=\"color: #808000; text-decoration-color: #808000\">name</span>=<span style=\"color: #008000; text-decoration-color: #008000\">\"my_buoy\"</span><span style=\"font-weight: bold\">)</span> has <span style=\"color: #008080; text-decoration-color: #008080; font-weight: bold\">1013</span> panels above the free surface. \n",
              "<span style=\"color: #7fbfbf; text-decoration-color: #7fbfbf\">           </span>         It has been clipped to fit inside the domain.                                                  \n",
              "<span style=\"color: #7fbfbf; text-decoration-color: #7fbfbf\">           </span>         To remove this warning, clip the mesh manually with the `<span style=\"color: #800080; text-decoration-color: #800080; font-weight: bold\">immersed_part</span><span style=\"font-weight: bold\">()</span>` method.              \n",
              "</pre>\n"
            ]
          },
          "metadata": {}
        },
        {
          "output_type": "display_data",
          "data": {
            "text/plain": [
              "\u001b[2;36m          \u001b[0m\u001b[2;36m \u001b[0m\u001b[34mINFO    \u001b[0m Clipping my_buoy with respect to \u001b[1;35mPlane\u001b[0m\u001b[1m(\u001b[0m\u001b[33mnormal\u001b[0m=\u001b[1m[\u001b[0m\u001b[1;36m0\u001b[0m. \u001b[1;36m0\u001b[0m. \u001b[1;36m1\u001b[0m.\u001b[1m]\u001b[0m, \u001b[33mpoint\u001b[0m=\u001b[1m[\u001b[0m\u001b[1;36m0\u001b[0m. \u001b[1;36m0\u001b[0m. \u001b[1;36m0\u001b[0m.\u001b[1m]\u001b[0m\u001b[1m)\u001b[0m                    \n"
            ],
            "text/html": [
              "<pre style=\"white-space:pre;overflow-x:auto;line-height:normal;font-family:Menlo,'DejaVu Sans Mono',consolas,'Courier New',monospace\"><span style=\"color: #7fbfbf; text-decoration-color: #7fbfbf\">           </span><span style=\"color: #000080; text-decoration-color: #000080\">INFO    </span> Clipping my_buoy with respect to <span style=\"color: #800080; text-decoration-color: #800080; font-weight: bold\">Plane</span><span style=\"font-weight: bold\">(</span><span style=\"color: #808000; text-decoration-color: #808000\">normal</span>=<span style=\"font-weight: bold\">[</span><span style=\"color: #008080; text-decoration-color: #008080; font-weight: bold\">0</span>. <span style=\"color: #008080; text-decoration-color: #008080; font-weight: bold\">0</span>. <span style=\"color: #008080; text-decoration-color: #008080; font-weight: bold\">1</span>.<span style=\"font-weight: bold\">]</span>, <span style=\"color: #808000; text-decoration-color: #808000\">point</span>=<span style=\"font-weight: bold\">[</span><span style=\"color: #008080; text-decoration-color: #008080; font-weight: bold\">0</span>. <span style=\"color: #008080; text-decoration-color: #008080; font-weight: bold\">0</span>. <span style=\"color: #008080; text-decoration-color: #008080; font-weight: bold\">0</span>.<span style=\"font-weight: bold\">])</span>                    \n",
              "</pre>\n"
            ]
          },
          "metadata": {}
        },
        {
          "output_type": "display_data",
          "data": {
            "text/plain": [
              "\u001b[2;36m          \u001b[0m\u001b[2;36m \u001b[0m\u001b[33mWARNING \u001b[0m The mesh of the body \u001b[1;35mFloatingBody\u001b[0m\u001b[1m(\u001b[0m\u001b[33m...\u001b[0m, \u001b[33mname\u001b[0m=\u001b[32m\"my_buoy\"\u001b[0m\u001b[1m)\u001b[0m has \u001b[1;36m1013\u001b[0m panels above the free surface. \n",
              "\u001b[2;36m           \u001b[0m         It has been clipped to fit inside the domain.                                                  \n",
              "\u001b[2;36m           \u001b[0m         To remove this warning, clip the mesh manually with the `\u001b[1;35mimmersed_part\u001b[0m\u001b[1m(\u001b[0m\u001b[1m)\u001b[0m` method.              \n"
            ],
            "text/html": [
              "<pre style=\"white-space:pre;overflow-x:auto;line-height:normal;font-family:Menlo,'DejaVu Sans Mono',consolas,'Courier New',monospace\"><span style=\"color: #7fbfbf; text-decoration-color: #7fbfbf\">           </span><span style=\"color: #808000; text-decoration-color: #808000\">WARNING </span> The mesh of the body <span style=\"color: #800080; text-decoration-color: #800080; font-weight: bold\">FloatingBody</span><span style=\"font-weight: bold\">(</span><span style=\"color: #808000; text-decoration-color: #808000\">...</span>, <span style=\"color: #808000; text-decoration-color: #808000\">name</span>=<span style=\"color: #008000; text-decoration-color: #008000\">\"my_buoy\"</span><span style=\"font-weight: bold\">)</span> has <span style=\"color: #008080; text-decoration-color: #008080; font-weight: bold\">1013</span> panels above the free surface. \n",
              "<span style=\"color: #7fbfbf; text-decoration-color: #7fbfbf\">           </span>         It has been clipped to fit inside the domain.                                                  \n",
              "<span style=\"color: #7fbfbf; text-decoration-color: #7fbfbf\">           </span>         To remove this warning, clip the mesh manually with the `<span style=\"color: #800080; text-decoration-color: #800080; font-weight: bold\">immersed_part</span><span style=\"font-weight: bold\">()</span>` method.              \n",
              "</pre>\n"
            ]
          },
          "metadata": {}
        },
        {
          "output_type": "display_data",
          "data": {
            "text/plain": [
              "\u001b[2;36m          \u001b[0m\u001b[2;36m \u001b[0m\u001b[34mINFO    \u001b[0m Clipping my_buoy with respect to \u001b[1;35mPlane\u001b[0m\u001b[1m(\u001b[0m\u001b[33mnormal\u001b[0m=\u001b[1m[\u001b[0m\u001b[1;36m0\u001b[0m. \u001b[1;36m0\u001b[0m. \u001b[1;36m1\u001b[0m.\u001b[1m]\u001b[0m, \u001b[33mpoint\u001b[0m=\u001b[1m[\u001b[0m\u001b[1;36m0\u001b[0m. \u001b[1;36m0\u001b[0m. \u001b[1;36m0\u001b[0m.\u001b[1m]\u001b[0m\u001b[1m)\u001b[0m                    \n"
            ],
            "text/html": [
              "<pre style=\"white-space:pre;overflow-x:auto;line-height:normal;font-family:Menlo,'DejaVu Sans Mono',consolas,'Courier New',monospace\"><span style=\"color: #7fbfbf; text-decoration-color: #7fbfbf\">           </span><span style=\"color: #000080; text-decoration-color: #000080\">INFO    </span> Clipping my_buoy with respect to <span style=\"color: #800080; text-decoration-color: #800080; font-weight: bold\">Plane</span><span style=\"font-weight: bold\">(</span><span style=\"color: #808000; text-decoration-color: #808000\">normal</span>=<span style=\"font-weight: bold\">[</span><span style=\"color: #008080; text-decoration-color: #008080; font-weight: bold\">0</span>. <span style=\"color: #008080; text-decoration-color: #008080; font-weight: bold\">0</span>. <span style=\"color: #008080; text-decoration-color: #008080; font-weight: bold\">1</span>.<span style=\"font-weight: bold\">]</span>, <span style=\"color: #808000; text-decoration-color: #808000\">point</span>=<span style=\"font-weight: bold\">[</span><span style=\"color: #008080; text-decoration-color: #008080; font-weight: bold\">0</span>. <span style=\"color: #008080; text-decoration-color: #008080; font-weight: bold\">0</span>. <span style=\"color: #008080; text-decoration-color: #008080; font-weight: bold\">0</span>.<span style=\"font-weight: bold\">])</span>                    \n",
              "</pre>\n"
            ]
          },
          "metadata": {}
        },
        {
          "output_type": "display_data",
          "data": {
            "text/plain": [
              "\u001b[2;36m          \u001b[0m\u001b[2;36m \u001b[0m\u001b[33mWARNING \u001b[0m The mesh of the body \u001b[1;35mFloatingBody\u001b[0m\u001b[1m(\u001b[0m\u001b[33m...\u001b[0m, \u001b[33mname\u001b[0m=\u001b[32m\"my_buoy\"\u001b[0m\u001b[1m)\u001b[0m has \u001b[1;36m1013\u001b[0m panels above the free surface. \n",
              "\u001b[2;36m           \u001b[0m         It has been clipped to fit inside the domain.                                                  \n",
              "\u001b[2;36m           \u001b[0m         To remove this warning, clip the mesh manually with the `\u001b[1;35mimmersed_part\u001b[0m\u001b[1m(\u001b[0m\u001b[1m)\u001b[0m` method.              \n"
            ],
            "text/html": [
              "<pre style=\"white-space:pre;overflow-x:auto;line-height:normal;font-family:Menlo,'DejaVu Sans Mono',consolas,'Courier New',monospace\"><span style=\"color: #7fbfbf; text-decoration-color: #7fbfbf\">           </span><span style=\"color: #808000; text-decoration-color: #808000\">WARNING </span> The mesh of the body <span style=\"color: #800080; text-decoration-color: #800080; font-weight: bold\">FloatingBody</span><span style=\"font-weight: bold\">(</span><span style=\"color: #808000; text-decoration-color: #808000\">...</span>, <span style=\"color: #808000; text-decoration-color: #808000\">name</span>=<span style=\"color: #008000; text-decoration-color: #008000\">\"my_buoy\"</span><span style=\"font-weight: bold\">)</span> has <span style=\"color: #008080; text-decoration-color: #008080; font-weight: bold\">1013</span> panels above the free surface. \n",
              "<span style=\"color: #7fbfbf; text-decoration-color: #7fbfbf\">           </span>         It has been clipped to fit inside the domain.                                                  \n",
              "<span style=\"color: #7fbfbf; text-decoration-color: #7fbfbf\">           </span>         To remove this warning, clip the mesh manually with the `<span style=\"color: #800080; text-decoration-color: #800080; font-weight: bold\">immersed_part</span><span style=\"font-weight: bold\">()</span>` method.              \n",
              "</pre>\n"
            ]
          },
          "metadata": {}
        },
        {
          "output_type": "display_data",
          "data": {
            "text/plain": [
              "\u001b[2;36m          \u001b[0m\u001b[2;36m \u001b[0m\u001b[34mINFO    \u001b[0m Clipping my_buoy with respect to \u001b[1;35mPlane\u001b[0m\u001b[1m(\u001b[0m\u001b[33mnormal\u001b[0m=\u001b[1m[\u001b[0m\u001b[1;36m0\u001b[0m. \u001b[1;36m0\u001b[0m. \u001b[1;36m1\u001b[0m.\u001b[1m]\u001b[0m, \u001b[33mpoint\u001b[0m=\u001b[1m[\u001b[0m\u001b[1;36m0\u001b[0m. \u001b[1;36m0\u001b[0m. \u001b[1;36m0\u001b[0m.\u001b[1m]\u001b[0m\u001b[1m)\u001b[0m                    \n"
            ],
            "text/html": [
              "<pre style=\"white-space:pre;overflow-x:auto;line-height:normal;font-family:Menlo,'DejaVu Sans Mono',consolas,'Courier New',monospace\"><span style=\"color: #7fbfbf; text-decoration-color: #7fbfbf\">           </span><span style=\"color: #000080; text-decoration-color: #000080\">INFO    </span> Clipping my_buoy with respect to <span style=\"color: #800080; text-decoration-color: #800080; font-weight: bold\">Plane</span><span style=\"font-weight: bold\">(</span><span style=\"color: #808000; text-decoration-color: #808000\">normal</span>=<span style=\"font-weight: bold\">[</span><span style=\"color: #008080; text-decoration-color: #008080; font-weight: bold\">0</span>. <span style=\"color: #008080; text-decoration-color: #008080; font-weight: bold\">0</span>. <span style=\"color: #008080; text-decoration-color: #008080; font-weight: bold\">1</span>.<span style=\"font-weight: bold\">]</span>, <span style=\"color: #808000; text-decoration-color: #808000\">point</span>=<span style=\"font-weight: bold\">[</span><span style=\"color: #008080; text-decoration-color: #008080; font-weight: bold\">0</span>. <span style=\"color: #008080; text-decoration-color: #008080; font-weight: bold\">0</span>. <span style=\"color: #008080; text-decoration-color: #008080; font-weight: bold\">0</span>.<span style=\"font-weight: bold\">])</span>                    \n",
              "</pre>\n"
            ]
          },
          "metadata": {}
        },
        {
          "output_type": "display_data",
          "data": {
            "text/plain": [
              "\u001b[2;36m          \u001b[0m\u001b[2;36m \u001b[0m\u001b[33mWARNING \u001b[0m The mesh of the body \u001b[1;35mFloatingBody\u001b[0m\u001b[1m(\u001b[0m\u001b[33m...\u001b[0m, \u001b[33mname\u001b[0m=\u001b[32m\"my_buoy\"\u001b[0m\u001b[1m)\u001b[0m has \u001b[1;36m1013\u001b[0m panels above the free surface. \n",
              "\u001b[2;36m           \u001b[0m         It has been clipped to fit inside the domain.                                                  \n",
              "\u001b[2;36m           \u001b[0m         To remove this warning, clip the mesh manually with the `\u001b[1;35mimmersed_part\u001b[0m\u001b[1m(\u001b[0m\u001b[1m)\u001b[0m` method.              \n"
            ],
            "text/html": [
              "<pre style=\"white-space:pre;overflow-x:auto;line-height:normal;font-family:Menlo,'DejaVu Sans Mono',consolas,'Courier New',monospace\"><span style=\"color: #7fbfbf; text-decoration-color: #7fbfbf\">           </span><span style=\"color: #808000; text-decoration-color: #808000\">WARNING </span> The mesh of the body <span style=\"color: #800080; text-decoration-color: #800080; font-weight: bold\">FloatingBody</span><span style=\"font-weight: bold\">(</span><span style=\"color: #808000; text-decoration-color: #808000\">...</span>, <span style=\"color: #808000; text-decoration-color: #808000\">name</span>=<span style=\"color: #008000; text-decoration-color: #008000\">\"my_buoy\"</span><span style=\"font-weight: bold\">)</span> has <span style=\"color: #008080; text-decoration-color: #008080; font-weight: bold\">1013</span> panels above the free surface. \n",
              "<span style=\"color: #7fbfbf; text-decoration-color: #7fbfbf\">           </span>         It has been clipped to fit inside the domain.                                                  \n",
              "<span style=\"color: #7fbfbf; text-decoration-color: #7fbfbf\">           </span>         To remove this warning, clip the mesh manually with the `<span style=\"color: #800080; text-decoration-color: #800080; font-weight: bold\">immersed_part</span><span style=\"font-weight: bold\">()</span>` method.              \n",
              "</pre>\n"
            ]
          },
          "metadata": {}
        },
        {
          "output_type": "display_data",
          "data": {
            "text/plain": [
              "\u001b[2;36m          \u001b[0m\u001b[2;36m \u001b[0m\u001b[34mINFO    \u001b[0m Clipping my_buoy with respect to \u001b[1;35mPlane\u001b[0m\u001b[1m(\u001b[0m\u001b[33mnormal\u001b[0m=\u001b[1m[\u001b[0m\u001b[1;36m0\u001b[0m. \u001b[1;36m0\u001b[0m. \u001b[1;36m1\u001b[0m.\u001b[1m]\u001b[0m, \u001b[33mpoint\u001b[0m=\u001b[1m[\u001b[0m\u001b[1;36m0\u001b[0m. \u001b[1;36m0\u001b[0m. \u001b[1;36m0\u001b[0m.\u001b[1m]\u001b[0m\u001b[1m)\u001b[0m                    \n"
            ],
            "text/html": [
              "<pre style=\"white-space:pre;overflow-x:auto;line-height:normal;font-family:Menlo,'DejaVu Sans Mono',consolas,'Courier New',monospace\"><span style=\"color: #7fbfbf; text-decoration-color: #7fbfbf\">           </span><span style=\"color: #000080; text-decoration-color: #000080\">INFO    </span> Clipping my_buoy with respect to <span style=\"color: #800080; text-decoration-color: #800080; font-weight: bold\">Plane</span><span style=\"font-weight: bold\">(</span><span style=\"color: #808000; text-decoration-color: #808000\">normal</span>=<span style=\"font-weight: bold\">[</span><span style=\"color: #008080; text-decoration-color: #008080; font-weight: bold\">0</span>. <span style=\"color: #008080; text-decoration-color: #008080; font-weight: bold\">0</span>. <span style=\"color: #008080; text-decoration-color: #008080; font-weight: bold\">1</span>.<span style=\"font-weight: bold\">]</span>, <span style=\"color: #808000; text-decoration-color: #808000\">point</span>=<span style=\"font-weight: bold\">[</span><span style=\"color: #008080; text-decoration-color: #008080; font-weight: bold\">0</span>. <span style=\"color: #008080; text-decoration-color: #008080; font-weight: bold\">0</span>. <span style=\"color: #008080; text-decoration-color: #008080; font-weight: bold\">0</span>.<span style=\"font-weight: bold\">])</span>                    \n",
              "</pre>\n"
            ]
          },
          "metadata": {}
        },
        {
          "output_type": "display_data",
          "data": {
            "text/plain": [
              "\u001b[2;36m          \u001b[0m\u001b[2;36m \u001b[0m\u001b[33mWARNING \u001b[0m The mesh of the body \u001b[1;35mFloatingBody\u001b[0m\u001b[1m(\u001b[0m\u001b[33m...\u001b[0m, \u001b[33mname\u001b[0m=\u001b[32m\"my_buoy\"\u001b[0m\u001b[1m)\u001b[0m has \u001b[1;36m1013\u001b[0m panels above the free surface. \n",
              "\u001b[2;36m           \u001b[0m         It has been clipped to fit inside the domain.                                                  \n",
              "\u001b[2;36m           \u001b[0m         To remove this warning, clip the mesh manually with the `\u001b[1;35mimmersed_part\u001b[0m\u001b[1m(\u001b[0m\u001b[1m)\u001b[0m` method.              \n"
            ],
            "text/html": [
              "<pre style=\"white-space:pre;overflow-x:auto;line-height:normal;font-family:Menlo,'DejaVu Sans Mono',consolas,'Courier New',monospace\"><span style=\"color: #7fbfbf; text-decoration-color: #7fbfbf\">           </span><span style=\"color: #808000; text-decoration-color: #808000\">WARNING </span> The mesh of the body <span style=\"color: #800080; text-decoration-color: #800080; font-weight: bold\">FloatingBody</span><span style=\"font-weight: bold\">(</span><span style=\"color: #808000; text-decoration-color: #808000\">...</span>, <span style=\"color: #808000; text-decoration-color: #808000\">name</span>=<span style=\"color: #008000; text-decoration-color: #008000\">\"my_buoy\"</span><span style=\"font-weight: bold\">)</span> has <span style=\"color: #008080; text-decoration-color: #008080; font-weight: bold\">1013</span> panels above the free surface. \n",
              "<span style=\"color: #7fbfbf; text-decoration-color: #7fbfbf\">           </span>         It has been clipped to fit inside the domain.                                                  \n",
              "<span style=\"color: #7fbfbf; text-decoration-color: #7fbfbf\">           </span>         To remove this warning, clip the mesh manually with the `<span style=\"color: #800080; text-decoration-color: #800080; font-weight: bold\">immersed_part</span><span style=\"font-weight: bold\">()</span>` method.              \n",
              "</pre>\n"
            ]
          },
          "metadata": {}
        },
        {
          "output_type": "display_data",
          "data": {
            "text/plain": [
              "\u001b[2;36m[16:58:36]\u001b[0m\u001b[2;36m \u001b[0m\u001b[34mINFO    \u001b[0m Clipping my_buoy with respect to \u001b[1;35mPlane\u001b[0m\u001b[1m(\u001b[0m\u001b[33mnormal\u001b[0m=\u001b[1m[\u001b[0m\u001b[1;36m0\u001b[0m. \u001b[1;36m0\u001b[0m. \u001b[1;36m1\u001b[0m.\u001b[1m]\u001b[0m, \u001b[33mpoint\u001b[0m=\u001b[1m[\u001b[0m\u001b[1;36m0\u001b[0m. \u001b[1;36m0\u001b[0m. \u001b[1;36m0\u001b[0m.\u001b[1m]\u001b[0m\u001b[1m)\u001b[0m                    \n"
            ],
            "text/html": [
              "<pre style=\"white-space:pre;overflow-x:auto;line-height:normal;font-family:Menlo,'DejaVu Sans Mono',consolas,'Courier New',monospace\"><span style=\"color: #7fbfbf; text-decoration-color: #7fbfbf\">[16:58:36] </span><span style=\"color: #000080; text-decoration-color: #000080\">INFO    </span> Clipping my_buoy with respect to <span style=\"color: #800080; text-decoration-color: #800080; font-weight: bold\">Plane</span><span style=\"font-weight: bold\">(</span><span style=\"color: #808000; text-decoration-color: #808000\">normal</span>=<span style=\"font-weight: bold\">[</span><span style=\"color: #008080; text-decoration-color: #008080; font-weight: bold\">0</span>. <span style=\"color: #008080; text-decoration-color: #008080; font-weight: bold\">0</span>. <span style=\"color: #008080; text-decoration-color: #008080; font-weight: bold\">1</span>.<span style=\"font-weight: bold\">]</span>, <span style=\"color: #808000; text-decoration-color: #808000\">point</span>=<span style=\"font-weight: bold\">[</span><span style=\"color: #008080; text-decoration-color: #008080; font-weight: bold\">0</span>. <span style=\"color: #008080; text-decoration-color: #008080; font-weight: bold\">0</span>. <span style=\"color: #008080; text-decoration-color: #008080; font-weight: bold\">0</span>.<span style=\"font-weight: bold\">])</span>                    \n",
              "</pre>\n"
            ]
          },
          "metadata": {}
        },
        {
          "output_type": "display_data",
          "data": {
            "text/plain": [
              "Output()"
            ],
            "application/vnd.jupyter.widget-view+json": {
              "version_major": 2,
              "version_minor": 0,
              "model_id": "de114298c77e4f1497b568cc8b6ac3c1"
            }
          },
          "metadata": {}
        },
        {
          "output_type": "display_data",
          "data": {
            "text/plain": [
              "\u001b[2;36m          \u001b[0m\u001b[2;36m \u001b[0m\u001b[34mINFO    \u001b[0m Solve \u001b[1;35mRadiationProblem\u001b[0m\u001b[1m(\u001b[0m\u001b[33mbody\u001b[0m=\u001b[1;35mFloatingBody\u001b[0m\u001b[1m(\u001b[0m\u001b[33m...\u001b[0m, \u001b[33mname\u001b[0m=\u001b[32m\"my_buoy\"\u001b[0m\u001b[1m)\u001b[0m, \u001b[33momega\u001b[0m=\u001b[1;36m1\u001b[0m\u001b[1;36m.500\u001b[0m, \u001b[33mwater_depth\u001b[0m=\u001b[35minf\u001b[0m,   \n",
              "\u001b[2;36m           \u001b[0m         \u001b[33mradiating_dof\u001b[0m=\u001b[32m'Surge'\u001b[0m\u001b[1m)\u001b[0m.                                                                        \n"
            ],
            "text/html": [
              "<pre style=\"white-space:pre;overflow-x:auto;line-height:normal;font-family:Menlo,'DejaVu Sans Mono',consolas,'Courier New',monospace\"><span style=\"color: #7fbfbf; text-decoration-color: #7fbfbf\">           </span><span style=\"color: #000080; text-decoration-color: #000080\">INFO    </span> Solve <span style=\"color: #800080; text-decoration-color: #800080; font-weight: bold\">RadiationProblem</span><span style=\"font-weight: bold\">(</span><span style=\"color: #808000; text-decoration-color: #808000\">body</span>=<span style=\"color: #800080; text-decoration-color: #800080; font-weight: bold\">FloatingBody</span><span style=\"font-weight: bold\">(</span><span style=\"color: #808000; text-decoration-color: #808000\">...</span>, <span style=\"color: #808000; text-decoration-color: #808000\">name</span>=<span style=\"color: #008000; text-decoration-color: #008000\">\"my_buoy\"</span><span style=\"font-weight: bold\">)</span>, <span style=\"color: #808000; text-decoration-color: #808000\">omega</span>=<span style=\"color: #008080; text-decoration-color: #008080; font-weight: bold\">1.500</span>, <span style=\"color: #808000; text-decoration-color: #808000\">water_depth</span>=<span style=\"color: #800080; text-decoration-color: #800080\">inf</span>,   \n",
              "<span style=\"color: #7fbfbf; text-decoration-color: #7fbfbf\">           </span>         <span style=\"color: #808000; text-decoration-color: #808000\">radiating_dof</span>=<span style=\"color: #008000; text-decoration-color: #008000\">'Surge'</span><span style=\"font-weight: bold\">)</span>.                                                                        \n",
              "</pre>\n"
            ]
          },
          "metadata": {}
        },
        {
          "output_type": "display_data",
          "data": {
            "text/plain": [
              "\u001b[2;36m[16:58:38]\u001b[0m\u001b[2;36m \u001b[0m\u001b[34mINFO    \u001b[0m Solve \u001b[1;35mRadiationProblem\u001b[0m\u001b[1m(\u001b[0m\u001b[33mbody\u001b[0m=\u001b[1;35mFloatingBody\u001b[0m\u001b[1m(\u001b[0m\u001b[33m...\u001b[0m, \u001b[33mname\u001b[0m=\u001b[32m\"my_buoy\"\u001b[0m\u001b[1m)\u001b[0m, \u001b[33momega\u001b[0m=\u001b[1;36m1\u001b[0m\u001b[1;36m.500\u001b[0m, \u001b[33mwater_depth\u001b[0m=\u001b[35minf\u001b[0m,   \n",
              "\u001b[2;36m           \u001b[0m         \u001b[33mradiating_dof\u001b[0m=\u001b[32m'Sway'\u001b[0m\u001b[1m)\u001b[0m.                                                                         \n"
            ],
            "text/html": [
              "<pre style=\"white-space:pre;overflow-x:auto;line-height:normal;font-family:Menlo,'DejaVu Sans Mono',consolas,'Courier New',monospace\"><span style=\"color: #7fbfbf; text-decoration-color: #7fbfbf\">[16:58:38] </span><span style=\"color: #000080; text-decoration-color: #000080\">INFO    </span> Solve <span style=\"color: #800080; text-decoration-color: #800080; font-weight: bold\">RadiationProblem</span><span style=\"font-weight: bold\">(</span><span style=\"color: #808000; text-decoration-color: #808000\">body</span>=<span style=\"color: #800080; text-decoration-color: #800080; font-weight: bold\">FloatingBody</span><span style=\"font-weight: bold\">(</span><span style=\"color: #808000; text-decoration-color: #808000\">...</span>, <span style=\"color: #808000; text-decoration-color: #808000\">name</span>=<span style=\"color: #008000; text-decoration-color: #008000\">\"my_buoy\"</span><span style=\"font-weight: bold\">)</span>, <span style=\"color: #808000; text-decoration-color: #808000\">omega</span>=<span style=\"color: #008080; text-decoration-color: #008080; font-weight: bold\">1.500</span>, <span style=\"color: #808000; text-decoration-color: #808000\">water_depth</span>=<span style=\"color: #800080; text-decoration-color: #800080\">inf</span>,   \n",
              "<span style=\"color: #7fbfbf; text-decoration-color: #7fbfbf\">           </span>         <span style=\"color: #808000; text-decoration-color: #808000\">radiating_dof</span>=<span style=\"color: #008000; text-decoration-color: #008000\">'Sway'</span><span style=\"font-weight: bold\">)</span>.                                                                         \n",
              "</pre>\n"
            ]
          },
          "metadata": {}
        },
        {
          "output_type": "display_data",
          "data": {
            "text/plain": [
              "\u001b[2;36m          \u001b[0m\u001b[2;36m \u001b[0m\u001b[34mINFO    \u001b[0m Solve \u001b[1;35mRadiationProblem\u001b[0m\u001b[1m(\u001b[0m\u001b[33mbody\u001b[0m=\u001b[1;35mFloatingBody\u001b[0m\u001b[1m(\u001b[0m\u001b[33m...\u001b[0m, \u001b[33mname\u001b[0m=\u001b[32m\"my_buoy\"\u001b[0m\u001b[1m)\u001b[0m, \u001b[33momega\u001b[0m=\u001b[1;36m1\u001b[0m\u001b[1;36m.500\u001b[0m, \u001b[33mwater_depth\u001b[0m=\u001b[35minf\u001b[0m,   \n",
              "\u001b[2;36m           \u001b[0m         \u001b[33mradiating_dof\u001b[0m=\u001b[32m'Heave'\u001b[0m\u001b[1m)\u001b[0m.                                                                        \n"
            ],
            "text/html": [
              "<pre style=\"white-space:pre;overflow-x:auto;line-height:normal;font-family:Menlo,'DejaVu Sans Mono',consolas,'Courier New',monospace\"><span style=\"color: #7fbfbf; text-decoration-color: #7fbfbf\">           </span><span style=\"color: #000080; text-decoration-color: #000080\">INFO    </span> Solve <span style=\"color: #800080; text-decoration-color: #800080; font-weight: bold\">RadiationProblem</span><span style=\"font-weight: bold\">(</span><span style=\"color: #808000; text-decoration-color: #808000\">body</span>=<span style=\"color: #800080; text-decoration-color: #800080; font-weight: bold\">FloatingBody</span><span style=\"font-weight: bold\">(</span><span style=\"color: #808000; text-decoration-color: #808000\">...</span>, <span style=\"color: #808000; text-decoration-color: #808000\">name</span>=<span style=\"color: #008000; text-decoration-color: #008000\">\"my_buoy\"</span><span style=\"font-weight: bold\">)</span>, <span style=\"color: #808000; text-decoration-color: #808000\">omega</span>=<span style=\"color: #008080; text-decoration-color: #008080; font-weight: bold\">1.500</span>, <span style=\"color: #808000; text-decoration-color: #808000\">water_depth</span>=<span style=\"color: #800080; text-decoration-color: #800080\">inf</span>,   \n",
              "<span style=\"color: #7fbfbf; text-decoration-color: #7fbfbf\">           </span>         <span style=\"color: #808000; text-decoration-color: #808000\">radiating_dof</span>=<span style=\"color: #008000; text-decoration-color: #008000\">'Heave'</span><span style=\"font-weight: bold\">)</span>.                                                                        \n",
              "</pre>\n"
            ]
          },
          "metadata": {}
        },
        {
          "output_type": "display_data",
          "data": {
            "text/plain": [
              "\u001b[2;36m          \u001b[0m\u001b[2;36m \u001b[0m\u001b[34mINFO    \u001b[0m Solve \u001b[1;35mRadiationProblem\u001b[0m\u001b[1m(\u001b[0m\u001b[33mbody\u001b[0m=\u001b[1;35mFloatingBody\u001b[0m\u001b[1m(\u001b[0m\u001b[33m...\u001b[0m, \u001b[33mname\u001b[0m=\u001b[32m\"my_buoy\"\u001b[0m\u001b[1m)\u001b[0m, \u001b[33momega\u001b[0m=\u001b[1;36m1\u001b[0m\u001b[1;36m.500\u001b[0m, \u001b[33mwater_depth\u001b[0m=\u001b[35minf\u001b[0m,   \n",
              "\u001b[2;36m           \u001b[0m         \u001b[33mradiating_dof\u001b[0m=\u001b[32m'Roll'\u001b[0m\u001b[1m)\u001b[0m.                                                                         \n"
            ],
            "text/html": [
              "<pre style=\"white-space:pre;overflow-x:auto;line-height:normal;font-family:Menlo,'DejaVu Sans Mono',consolas,'Courier New',monospace\"><span style=\"color: #7fbfbf; text-decoration-color: #7fbfbf\">           </span><span style=\"color: #000080; text-decoration-color: #000080\">INFO    </span> Solve <span style=\"color: #800080; text-decoration-color: #800080; font-weight: bold\">RadiationProblem</span><span style=\"font-weight: bold\">(</span><span style=\"color: #808000; text-decoration-color: #808000\">body</span>=<span style=\"color: #800080; text-decoration-color: #800080; font-weight: bold\">FloatingBody</span><span style=\"font-weight: bold\">(</span><span style=\"color: #808000; text-decoration-color: #808000\">...</span>, <span style=\"color: #808000; text-decoration-color: #808000\">name</span>=<span style=\"color: #008000; text-decoration-color: #008000\">\"my_buoy\"</span><span style=\"font-weight: bold\">)</span>, <span style=\"color: #808000; text-decoration-color: #808000\">omega</span>=<span style=\"color: #008080; text-decoration-color: #008080; font-weight: bold\">1.500</span>, <span style=\"color: #808000; text-decoration-color: #808000\">water_depth</span>=<span style=\"color: #800080; text-decoration-color: #800080\">inf</span>,   \n",
              "<span style=\"color: #7fbfbf; text-decoration-color: #7fbfbf\">           </span>         <span style=\"color: #808000; text-decoration-color: #808000\">radiating_dof</span>=<span style=\"color: #008000; text-decoration-color: #008000\">'Roll'</span><span style=\"font-weight: bold\">)</span>.                                                                         \n",
              "</pre>\n"
            ]
          },
          "metadata": {}
        },
        {
          "output_type": "display_data",
          "data": {
            "text/plain": [
              "\u001b[2;36m          \u001b[0m\u001b[2;36m \u001b[0m\u001b[34mINFO    \u001b[0m Solve \u001b[1;35mRadiationProblem\u001b[0m\u001b[1m(\u001b[0m\u001b[33mbody\u001b[0m=\u001b[1;35mFloatingBody\u001b[0m\u001b[1m(\u001b[0m\u001b[33m...\u001b[0m, \u001b[33mname\u001b[0m=\u001b[32m\"my_buoy\"\u001b[0m\u001b[1m)\u001b[0m, \u001b[33momega\u001b[0m=\u001b[1;36m1\u001b[0m\u001b[1;36m.500\u001b[0m, \u001b[33mwater_depth\u001b[0m=\u001b[35minf\u001b[0m,   \n",
              "\u001b[2;36m           \u001b[0m         \u001b[33mradiating_dof\u001b[0m=\u001b[32m'Pitch'\u001b[0m\u001b[1m)\u001b[0m.                                                                        \n"
            ],
            "text/html": [
              "<pre style=\"white-space:pre;overflow-x:auto;line-height:normal;font-family:Menlo,'DejaVu Sans Mono',consolas,'Courier New',monospace\"><span style=\"color: #7fbfbf; text-decoration-color: #7fbfbf\">           </span><span style=\"color: #000080; text-decoration-color: #000080\">INFO    </span> Solve <span style=\"color: #800080; text-decoration-color: #800080; font-weight: bold\">RadiationProblem</span><span style=\"font-weight: bold\">(</span><span style=\"color: #808000; text-decoration-color: #808000\">body</span>=<span style=\"color: #800080; text-decoration-color: #800080; font-weight: bold\">FloatingBody</span><span style=\"font-weight: bold\">(</span><span style=\"color: #808000; text-decoration-color: #808000\">...</span>, <span style=\"color: #808000; text-decoration-color: #808000\">name</span>=<span style=\"color: #008000; text-decoration-color: #008000\">\"my_buoy\"</span><span style=\"font-weight: bold\">)</span>, <span style=\"color: #808000; text-decoration-color: #808000\">omega</span>=<span style=\"color: #008080; text-decoration-color: #008080; font-weight: bold\">1.500</span>, <span style=\"color: #808000; text-decoration-color: #808000\">water_depth</span>=<span style=\"color: #800080; text-decoration-color: #800080\">inf</span>,   \n",
              "<span style=\"color: #7fbfbf; text-decoration-color: #7fbfbf\">           </span>         <span style=\"color: #808000; text-decoration-color: #808000\">radiating_dof</span>=<span style=\"color: #008000; text-decoration-color: #008000\">'Pitch'</span><span style=\"font-weight: bold\">)</span>.                                                                        \n",
              "</pre>\n"
            ]
          },
          "metadata": {}
        },
        {
          "output_type": "display_data",
          "data": {
            "text/plain": [
              "\u001b[2;36m          \u001b[0m\u001b[2;36m \u001b[0m\u001b[34mINFO    \u001b[0m Solve \u001b[1;35mRadiationProblem\u001b[0m\u001b[1m(\u001b[0m\u001b[33mbody\u001b[0m=\u001b[1;35mFloatingBody\u001b[0m\u001b[1m(\u001b[0m\u001b[33m...\u001b[0m, \u001b[33mname\u001b[0m=\u001b[32m\"my_buoy\"\u001b[0m\u001b[1m)\u001b[0m, \u001b[33momega\u001b[0m=\u001b[1;36m1\u001b[0m\u001b[1;36m.500\u001b[0m, \u001b[33mwater_depth\u001b[0m=\u001b[35minf\u001b[0m,   \n",
              "\u001b[2;36m           \u001b[0m         \u001b[33mradiating_dof\u001b[0m=\u001b[32m'Yaw'\u001b[0m\u001b[1m)\u001b[0m.                                                                          \n"
            ],
            "text/html": [
              "<pre style=\"white-space:pre;overflow-x:auto;line-height:normal;font-family:Menlo,'DejaVu Sans Mono',consolas,'Courier New',monospace\"><span style=\"color: #7fbfbf; text-decoration-color: #7fbfbf\">           </span><span style=\"color: #000080; text-decoration-color: #000080\">INFO    </span> Solve <span style=\"color: #800080; text-decoration-color: #800080; font-weight: bold\">RadiationProblem</span><span style=\"font-weight: bold\">(</span><span style=\"color: #808000; text-decoration-color: #808000\">body</span>=<span style=\"color: #800080; text-decoration-color: #800080; font-weight: bold\">FloatingBody</span><span style=\"font-weight: bold\">(</span><span style=\"color: #808000; text-decoration-color: #808000\">...</span>, <span style=\"color: #808000; text-decoration-color: #808000\">name</span>=<span style=\"color: #008000; text-decoration-color: #008000\">\"my_buoy\"</span><span style=\"font-weight: bold\">)</span>, <span style=\"color: #808000; text-decoration-color: #808000\">omega</span>=<span style=\"color: #008080; text-decoration-color: #008080; font-weight: bold\">1.500</span>, <span style=\"color: #808000; text-decoration-color: #808000\">water_depth</span>=<span style=\"color: #800080; text-decoration-color: #800080\">inf</span>,   \n",
              "<span style=\"color: #7fbfbf; text-decoration-color: #7fbfbf\">           </span>         <span style=\"color: #808000; text-decoration-color: #808000\">radiating_dof</span>=<span style=\"color: #008000; text-decoration-color: #008000\">'Yaw'</span><span style=\"font-weight: bold\">)</span>.                                                                          \n",
              "</pre>\n"
            ]
          },
          "metadata": {}
        },
        {
          "output_type": "display_data",
          "data": {
            "text/plain": [],
            "text/html": [
              "<pre style=\"white-space:pre;overflow-x:auto;line-height:normal;font-family:Menlo,'DejaVu Sans Mono',consolas,'Courier New',monospace\"></pre>\n"
            ]
          },
          "metadata": {}
        },
        {
          "output_type": "display_data",
          "data": {
            "text/plain": [
              "\u001b[2;36m          \u001b[0m\u001b[2;36m \u001b[0m\u001b[33mWARNING \u001b[0m The mesh of the body \u001b[1;35mFloatingBody\u001b[0m\u001b[1m(\u001b[0m\u001b[33m...\u001b[0m, \u001b[33mname\u001b[0m=\u001b[32m\"my_buoy\"\u001b[0m\u001b[1m)\u001b[0m has \u001b[1;36m1013\u001b[0m panels above the free surface. \n",
              "\u001b[2;36m           \u001b[0m         It has been clipped to fit inside the domain.                                                  \n",
              "\u001b[2;36m           \u001b[0m         To remove this warning, clip the mesh manually with the `\u001b[1;35mimmersed_part\u001b[0m\u001b[1m(\u001b[0m\u001b[1m)\u001b[0m` method.              \n"
            ],
            "text/html": [
              "<pre style=\"white-space:pre;overflow-x:auto;line-height:normal;font-family:Menlo,'DejaVu Sans Mono',consolas,'Courier New',monospace\"><span style=\"color: #7fbfbf; text-decoration-color: #7fbfbf\">           </span><span style=\"color: #808000; text-decoration-color: #808000\">WARNING </span> The mesh of the body <span style=\"color: #800080; text-decoration-color: #800080; font-weight: bold\">FloatingBody</span><span style=\"font-weight: bold\">(</span><span style=\"color: #808000; text-decoration-color: #808000\">...</span>, <span style=\"color: #808000; text-decoration-color: #808000\">name</span>=<span style=\"color: #008000; text-decoration-color: #008000\">\"my_buoy\"</span><span style=\"font-weight: bold\">)</span> has <span style=\"color: #008080; text-decoration-color: #008080; font-weight: bold\">1013</span> panels above the free surface. \n",
              "<span style=\"color: #7fbfbf; text-decoration-color: #7fbfbf\">           </span>         It has been clipped to fit inside the domain.                                                  \n",
              "<span style=\"color: #7fbfbf; text-decoration-color: #7fbfbf\">           </span>         To remove this warning, clip the mesh manually with the `<span style=\"color: #800080; text-decoration-color: #800080; font-weight: bold\">immersed_part</span><span style=\"font-weight: bold\">()</span>` method.              \n",
              "</pre>\n"
            ]
          },
          "metadata": {}
        },
        {
          "output_type": "display_data",
          "data": {
            "text/plain": [
              "\u001b[2;36m          \u001b[0m\u001b[2;36m \u001b[0m\u001b[34mINFO    \u001b[0m Clipping my_buoy with respect to \u001b[1;35mPlane\u001b[0m\u001b[1m(\u001b[0m\u001b[33mnormal\u001b[0m=\u001b[1m[\u001b[0m\u001b[1;36m0\u001b[0m. \u001b[1;36m0\u001b[0m. \u001b[1;36m1\u001b[0m.\u001b[1m]\u001b[0m, \u001b[33mpoint\u001b[0m=\u001b[1m[\u001b[0m\u001b[1;36m0\u001b[0m. \u001b[1;36m0\u001b[0m. \u001b[1;36m0\u001b[0m.\u001b[1m]\u001b[0m\u001b[1m)\u001b[0m                    \n"
            ],
            "text/html": [
              "<pre style=\"white-space:pre;overflow-x:auto;line-height:normal;font-family:Menlo,'DejaVu Sans Mono',consolas,'Courier New',monospace\"><span style=\"color: #7fbfbf; text-decoration-color: #7fbfbf\">           </span><span style=\"color: #000080; text-decoration-color: #000080\">INFO    </span> Clipping my_buoy with respect to <span style=\"color: #800080; text-decoration-color: #800080; font-weight: bold\">Plane</span><span style=\"font-weight: bold\">(</span><span style=\"color: #808000; text-decoration-color: #808000\">normal</span>=<span style=\"font-weight: bold\">[</span><span style=\"color: #008080; text-decoration-color: #008080; font-weight: bold\">0</span>. <span style=\"color: #008080; text-decoration-color: #008080; font-weight: bold\">0</span>. <span style=\"color: #008080; text-decoration-color: #008080; font-weight: bold\">1</span>.<span style=\"font-weight: bold\">]</span>, <span style=\"color: #808000; text-decoration-color: #808000\">point</span>=<span style=\"font-weight: bold\">[</span><span style=\"color: #008080; text-decoration-color: #008080; font-weight: bold\">0</span>. <span style=\"color: #008080; text-decoration-color: #008080; font-weight: bold\">0</span>. <span style=\"color: #008080; text-decoration-color: #008080; font-weight: bold\">0</span>.<span style=\"font-weight: bold\">])</span>                    \n",
              "</pre>\n"
            ]
          },
          "metadata": {}
        },
        {
          "output_type": "display_data",
          "data": {
            "text/plain": [
              "\u001b[2;36m          \u001b[0m\u001b[2;36m \u001b[0m\u001b[34mINFO    \u001b[0m Solve \u001b[1;35mDiffractionProblem\u001b[0m\u001b[1m(\u001b[0m\u001b[33mbody\u001b[0m=\u001b[1;35mFloatingBody\u001b[0m\u001b[1m(\u001b[0m\u001b[33m...\u001b[0m, \u001b[33mname\u001b[0m=\u001b[32m\"my_buoy\"\u001b[0m\u001b[1m)\u001b[0m, \u001b[33momega\u001b[0m=\u001b[1;36m1\u001b[0m\u001b[1;36m.500\u001b[0m, \u001b[33mwater_depth\u001b[0m=\u001b[35minf\u001b[0m, \n",
              "\u001b[2;36m           \u001b[0m         \u001b[33mwave_direction\u001b[0m=\u001b[1;36m0\u001b[0m\u001b[1;36m.000\u001b[0m\u001b[1m)\u001b[0m.                                                                         \n"
            ],
            "text/html": [
              "<pre style=\"white-space:pre;overflow-x:auto;line-height:normal;font-family:Menlo,'DejaVu Sans Mono',consolas,'Courier New',monospace\"><span style=\"color: #7fbfbf; text-decoration-color: #7fbfbf\">           </span><span style=\"color: #000080; text-decoration-color: #000080\">INFO    </span> Solve <span style=\"color: #800080; text-decoration-color: #800080; font-weight: bold\">DiffractionProblem</span><span style=\"font-weight: bold\">(</span><span style=\"color: #808000; text-decoration-color: #808000\">body</span>=<span style=\"color: #800080; text-decoration-color: #800080; font-weight: bold\">FloatingBody</span><span style=\"font-weight: bold\">(</span><span style=\"color: #808000; text-decoration-color: #808000\">...</span>, <span style=\"color: #808000; text-decoration-color: #808000\">name</span>=<span style=\"color: #008000; text-decoration-color: #008000\">\"my_buoy\"</span><span style=\"font-weight: bold\">)</span>, <span style=\"color: #808000; text-decoration-color: #808000\">omega</span>=<span style=\"color: #008080; text-decoration-color: #008080; font-weight: bold\">1.500</span>, <span style=\"color: #808000; text-decoration-color: #808000\">water_depth</span>=<span style=\"color: #800080; text-decoration-color: #800080\">inf</span>, \n",
              "<span style=\"color: #7fbfbf; text-decoration-color: #7fbfbf\">           </span>         <span style=\"color: #808000; text-decoration-color: #808000\">wave_direction</span>=<span style=\"color: #008080; text-decoration-color: #008080; font-weight: bold\">0.000</span><span style=\"font-weight: bold\">)</span>.                                                                         \n",
              "</pre>\n"
            ]
          },
          "metadata": {}
        },
        {
          "output_type": "display_data",
          "data": {
            "text/plain": [
              "\u001b[2;36m[16:58:39]\u001b[0m\u001b[2;36m \u001b[0m\u001b[34mINFO    \u001b[0m Compute RAO.                                                                                   \n"
            ],
            "text/html": [
              "<pre style=\"white-space:pre;overflow-x:auto;line-height:normal;font-family:Menlo,'DejaVu Sans Mono',consolas,'Courier New',monospace\"><span style=\"color: #7fbfbf; text-decoration-color: #7fbfbf\">[16:58:39] </span><span style=\"color: #000080; text-decoration-color: #000080\">INFO    </span> Compute RAO.                                                                                   \n",
              "</pre>\n"
            ]
          },
          "metadata": {}
        },
        {
          "output_type": "display_data",
          "data": {
            "text/plain": [
              "\u001b[2;36m          \u001b[0m\u001b[2;36m \u001b[0m\u001b[34mINFO    \u001b[0m Precompute motions of buo.stl before animation.                                                \n"
            ],
            "text/html": [
              "<pre style=\"white-space:pre;overflow-x:auto;line-height:normal;font-family:Menlo,'DejaVu Sans Mono',consolas,'Courier New',monospace\"><span style=\"color: #7fbfbf; text-decoration-color: #7fbfbf\">           </span><span style=\"color: #000080; text-decoration-color: #000080\">INFO    </span> Precompute motions of buo.stl before animation.                                                \n",
              "</pre>\n"
            ]
          },
          "metadata": {}
        },
        {
          "output_type": "display_data",
          "data": {
            "text/plain": [
              "\u001b[2;36m[16:58:41]\u001b[0m\u001b[2;36m \u001b[0m\u001b[34mINFO    \u001b[0m Precompute motions of free_surface_4503_mesh before animation.                                 \n"
            ],
            "text/html": [
              "<pre style=\"white-space:pre;overflow-x:auto;line-height:normal;font-family:Menlo,'DejaVu Sans Mono',consolas,'Courier New',monospace\"><span style=\"color: #7fbfbf; text-decoration-color: #7fbfbf\">[16:58:41] </span><span style=\"color: #000080; text-decoration-color: #000080\">INFO    </span> Precompute motions of free_surface_4503_mesh before animation.                                 \n",
              "</pre>\n"
            ]
          },
          "metadata": {}
        },
        {
          "output_type": "stream",
          "name": "stdout",
          "text": [
            "Animation saved as 'animated_buoy.ogv'\n"
          ]
        }
      ]
    },
    {
      "cell_type": "code",
      "source": [],
      "metadata": {
        "colab": {
          "base_uri": "https://localhost:8080/",
          "height": 50
        },
        "id": "NXVgUbcMwSd0",
        "outputId": "e6d304b5-d37e-47d7-ba1c-869844509d98"
      },
      "execution_count": null,
      "outputs": [
        {
          "output_type": "display_data",
          "data": {
            "text/plain": [
              "\u001b[2;36m[15:39:33]\u001b[0m\u001b[2;36m \u001b[0m\u001b[33mWARNING \u001b[0m Exporting problem in already existing directory: my_hydrostatics                               \n",
              "\u001b[2;36m           \u001b[0m                      You might be overwriting existing files!                                          \n"
            ],
            "text/html": [
              "<pre style=\"white-space:pre;overflow-x:auto;line-height:normal;font-family:Menlo,'DejaVu Sans Mono',consolas,'Courier New',monospace\"><span style=\"color: #7fbfbf; text-decoration-color: #7fbfbf\">[15:39:33] </span><span style=\"color: #808000; text-decoration-color: #808000\">WARNING </span> Exporting problem in already existing directory: my_hydrostatics                               \n",
              "<span style=\"color: #7fbfbf; text-decoration-color: #7fbfbf\">           </span>                      You might be overwriting existing files!                                          \n",
              "</pre>\n"
            ]
          },
          "metadata": {}
        }
      ]
    }
  ]
}